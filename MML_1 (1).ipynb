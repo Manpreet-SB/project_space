{
 "cells": [
  {
   "cell_type": "markdown",
   "id": "799f5802",
   "metadata": {},
   "source": [
    "Our first system of equation:\n",
    "\n",
    "$$2x+7y-z= 9$$\n",
    "$$x-3y+z = 5$$\n",
    "$$-4x+y+z = -3$$\n",
    "\n",
    "Solve for x,y,z"
   ]
  },
  {
   "cell_type": "code",
   "execution_count": 1,
   "id": "d6a7927d",
   "metadata": {},
   "outputs": [],
   "source": [
    "import numpy as np"
   ]
  },
  {
   "cell_type": "code",
   "execution_count": 60,
   "id": "820a96f2",
   "metadata": {},
   "outputs": [],
   "source": [
    "A = np.array([[2,7,-1],\n",
    "              [1,-3,1],\n",
    "              [-4,1,1]])"
   ]
  },
  {
   "cell_type": "code",
   "execution_count": 61,
   "id": "7dba6e54",
   "metadata": {},
   "outputs": [],
   "source": [
    "b = np.array([9,5,-3])"
   ]
  },
  {
   "cell_type": "markdown",
   "id": "b16c4e6a",
   "metadata": {},
   "source": [
    "The above system of equation can be written in the form of\n",
    "$$Ax = b$$\n",
    "\n",
    "And the solution is: $A^{-1}b$"
   ]
  },
  {
   "cell_type": "code",
   "execution_count": 62,
   "id": "f3725dc1",
   "metadata": {},
   "outputs": [
    {
     "data": {
      "text/plain": [
       "array([2.75  , 1.4375, 6.5625])"
      ]
     },
     "execution_count": 62,
     "metadata": {},
     "output_type": "execute_result"
    }
   ],
   "source": [
    "sol = np.linalg.inv(A).dot(b)\n",
    "sol"
   ]
  },
  {
   "cell_type": "code",
   "execution_count": 63,
   "id": "ff65937a",
   "metadata": {},
   "outputs": [
    {
     "data": {
      "text/plain": [
       "array([2.75  , 1.4375, 6.5625])"
      ]
     },
     "execution_count": 63,
     "metadata": {},
     "output_type": "execute_result"
    }
   ],
   "source": [
    "np.linalg.solve(A,b)"
   ]
  },
  {
   "cell_type": "code",
   "execution_count": null,
   "id": "323d96c3",
   "metadata": {},
   "outputs": [],
   "source": []
  },
  {
   "cell_type": "code",
   "execution_count": 64,
   "id": "85c4605a",
   "metadata": {},
   "outputs": [
    {
     "data": {
      "text/plain": [
       "array([[ 2.,  7., -1.,  9.],\n",
       "       [ 1., -3.,  1.,  5.],\n",
       "       [-4.,  1.,  1., -3.]], dtype=float32)"
      ]
     },
     "execution_count": 64,
     "metadata": {},
     "output_type": "execute_result"
    }
   ],
   "source": [
    "A_aug = np.c_[A,b]\n",
    "A_aug = A_aug.astype(np.float32)\n",
    "A_aug"
   ]
  },
  {
   "cell_type": "code",
   "execution_count": 65,
   "id": "ff77ab14",
   "metadata": {},
   "outputs": [
    {
     "data": {
      "text/plain": [
       "array([[ 1., -3.,  1.,  5.],\n",
       "       [ 2.,  7., -1.,  9.],\n",
       "       [-4.,  1.,  1., -3.]], dtype=float32)"
      ]
     },
     "execution_count": 65,
     "metadata": {},
     "output_type": "execute_result"
    }
   ],
   "source": [
    "A_aug_1 = A_aug.copy()\n",
    "A_aug_1[1,:] = A_aug[0,:]\n",
    "A_aug_1[0,:] = A_aug[1,:]\n",
    "A_aug_1"
   ]
  },
  {
   "cell_type": "code",
   "execution_count": 66,
   "id": "fac0e241",
   "metadata": {},
   "outputs": [
    {
     "data": {
      "text/plain": [
       "array([[ 1., -3.,  1.,  5.],\n",
       "       [ 0., 13., -3., -1.],\n",
       "       [-4.,  1.,  1., -3.]], dtype=float32)"
      ]
     },
     "execution_count": 66,
     "metadata": {},
     "output_type": "execute_result"
    }
   ],
   "source": [
    "# Make cell values below cell (0,0) to 0\n",
    "# R_2 = -2R_1 + R_2\n",
    "A_aug_1[1,:] = -2*A_aug_1[0,:] + A_aug_1[1,:]\n",
    "A_aug_1"
   ]
  },
  {
   "cell_type": "code",
   "execution_count": 67,
   "id": "e9e67783",
   "metadata": {},
   "outputs": [
    {
     "data": {
      "text/plain": [
       "array([[  1.,  -3.,   1.,   5.],\n",
       "       [  0.,  13.,  -3.,  -1.],\n",
       "       [  0., -11.,   5.,  17.]], dtype=float32)"
      ]
     },
     "execution_count": 67,
     "metadata": {},
     "output_type": "execute_result"
    }
   ],
   "source": [
    "A_aug_1[2,:] = 4*A_aug_1[0,:] + A_aug_1[2,:]\n",
    "A_aug_1"
   ]
  },
  {
   "cell_type": "code",
   "execution_count": 68,
   "id": "aceeb7fa",
   "metadata": {},
   "outputs": [
    {
     "data": {
      "text/plain": [
       "array([[  1.        ,  -3.        ,   1.        ,   5.        ],\n",
       "       [  0.        ,   1.        ,  -0.23076925,  -0.07692308],\n",
       "       [  0.        , -11.        ,   5.        ,  17.        ]],\n",
       "      dtype=float32)"
      ]
     },
     "execution_count": 68,
     "metadata": {},
     "output_type": "execute_result"
    }
   ],
   "source": [
    "A_aug_1[1,:] = (1/A_aug_1[1,1])*A_aug_1[1,:]\n",
    "A_aug_1"
   ]
  },
  {
   "cell_type": "code",
   "execution_count": 69,
   "id": "8695fdd9",
   "metadata": {},
   "outputs": [
    {
     "data": {
      "text/plain": [
       "array([[ 1.        , -3.        ,  1.        ,  5.        ],\n",
       "       [ 0.        ,  1.        , -0.23076925, -0.07692308],\n",
       "       [ 0.        ,  0.        ,  2.4615383 , 16.153847  ]],\n",
       "      dtype=float32)"
      ]
     },
     "execution_count": 69,
     "metadata": {},
     "output_type": "execute_result"
    }
   ],
   "source": [
    "A_aug_1[2,:] = 11*A_aug_1[1,:] + A_aug_1[2,:]\n",
    "A_aug_1"
   ]
  },
  {
   "cell_type": "code",
   "execution_count": 70,
   "id": "a6e31a0a",
   "metadata": {},
   "outputs": [
    {
     "data": {
      "text/plain": [
       "array([[ 1.        , -3.        ,  1.        ,  5.        ],\n",
       "       [ 0.        ,  1.        , -0.23076925, -0.07692308],\n",
       "       [ 0.        ,  0.        ,  1.        ,  6.562501  ]],\n",
       "      dtype=float32)"
      ]
     },
     "execution_count": 70,
     "metadata": {},
     "output_type": "execute_result"
    }
   ],
   "source": [
    "A_aug_1[2,:] = (1/A_aug_1[2,2])*A_aug_1[2,:]\n",
    "A_aug_1"
   ]
  },
  {
   "cell_type": "code",
   "execution_count": 71,
   "id": "9d0ef906",
   "metadata": {},
   "outputs": [
    {
     "data": {
      "text/plain": [
       "array([[ 1.       , -3.       ,  1.       ,  5.       ],\n",
       "       [ 0.       ,  1.       ,  0.       ,  1.4375002],\n",
       "       [ 0.       ,  0.       ,  1.       ,  6.562501 ]], dtype=float32)"
      ]
     },
     "execution_count": 71,
     "metadata": {},
     "output_type": "execute_result"
    }
   ],
   "source": [
    "A_aug_1[1,:] = (-1)*A_aug_1[1,2]*A_aug_1[2,:] + A_aug_1[1,:]\n",
    "A_aug_1"
   ]
  },
  {
   "cell_type": "code",
   "execution_count": 72,
   "id": "b654cf2f",
   "metadata": {},
   "outputs": [
    {
     "data": {
      "text/plain": [
       "array([[ 1.       , -3.       ,  0.       , -1.562501 ],\n",
       "       [ 0.       ,  1.       ,  0.       ,  1.4375002],\n",
       "       [ 0.       ,  0.       ,  1.       ,  6.562501 ]], dtype=float32)"
      ]
     },
     "execution_count": 72,
     "metadata": {},
     "output_type": "execute_result"
    }
   ],
   "source": [
    "A_aug_1[0,:] = (-1)*A_aug_1[0,2]*A_aug_1[2,:] + A_aug_1[0,:]\n",
    "A_aug_1"
   ]
  },
  {
   "cell_type": "code",
   "execution_count": 73,
   "id": "e49bcd44",
   "metadata": {},
   "outputs": [
    {
     "data": {
      "text/plain": [
       "array([[1.       , 0.       , 0.       , 2.75     ],\n",
       "       [0.       , 1.       , 0.       , 1.4375002],\n",
       "       [0.       , 0.       , 1.       , 6.562501 ]], dtype=float32)"
      ]
     },
     "execution_count": 73,
     "metadata": {},
     "output_type": "execute_result"
    }
   ],
   "source": [
    "A_aug_1[0,:] = (-1)*A_aug_1[0,1]*A_aug_1[1,:] + A_aug_1[0,:]\n",
    "A_aug_1"
   ]
  },
  {
   "cell_type": "code",
   "execution_count": 74,
   "id": "741c0bb5",
   "metadata": {},
   "outputs": [],
   "source": [
    "A_aug_2 = A_aug.copy()"
   ]
  },
  {
   "cell_type": "code",
   "execution_count": 75,
   "id": "b54a6b3a",
   "metadata": {},
   "outputs": [
    {
     "data": {
      "text/plain": [
       "(3, 4)"
      ]
     },
     "execution_count": 75,
     "metadata": {},
     "output_type": "execute_result"
    }
   ],
   "source": [
    "row, col = A_aug_2.shape\n",
    "(row, col)"
   ]
  },
  {
   "cell_type": "code",
   "execution_count": 76,
   "id": "8fc9c96c",
   "metadata": {},
   "outputs": [],
   "source": [
    "# A_aug_1[1,:] = -2*A_aug_1[0,:] + A_aug_1[1,:]\n",
    "# A_aug_1"
   ]
  },
  {
   "cell_type": "code",
   "execution_count": 84,
   "id": "4fc3551a",
   "metadata": {},
   "outputs": [
    {
     "name": "stdout",
     "output_type": "stream",
     "text": [
      "step: 0\n",
      "A_aug:\n",
      " [[ 1.   3.5 -0.5  4.5]\n",
      " [ 1.  -3.   1.   5. ]\n",
      " [-4.   1.   1.  -3. ]]\n",
      "A_aug:\n",
      " [[ 1.   3.5 -0.5  4.5]\n",
      " [ 0.  -6.5  1.5  0.5]\n",
      " [-4.   1.   1.  -3. ]]\n",
      "A_aug:\n",
      " [[ 1.   3.5 -0.5  4.5]\n",
      " [ 0.  -6.5  1.5  0.5]\n",
      " [ 0.  15.  -1.  15. ]]\n",
      "step: 1\n",
      "A_aug:\n",
      " [[ 1.          3.5        -0.5         4.5       ]\n",
      " [-0.          1.         -0.23076925 -0.07692308]\n",
      " [ 0.         15.         -1.         15.        ]]\n",
      "A_aug:\n",
      " [[ 1.          3.5        -0.5         4.5       ]\n",
      " [-0.          1.         -0.23076925 -0.07692308]\n",
      " [ 0.          0.          2.4615388  16.153847  ]]\n",
      "step: 2\n",
      "A_aug:\n",
      " [[ 1.          3.5        -0.5         4.5       ]\n",
      " [-0.          1.         -0.23076925 -0.07692308]\n",
      " [ 0.          0.          1.          6.562499  ]]\n",
      "r: 1\n",
      "A_aug:\n",
      " [[ 1.         3.5       -0.5        4.5      ]\n",
      " [ 0.         1.         0.         1.4374999]\n",
      " [ 0.         0.         1.         6.562499 ]]\n",
      "r: 0\n",
      "A_aug:\n",
      " [[1.        3.5       0.        7.7812495]\n",
      " [0.        1.        0.        1.4374999]\n",
      " [0.        0.        1.        6.562499 ]]\n",
      "r: 0\n",
      "A_aug:\n",
      " [[1.        0.        0.        2.75     ]\n",
      " [0.        1.        0.        1.4374999]\n",
      " [0.        0.        1.        6.562499 ]]\n"
     ]
    }
   ],
   "source": [
    "# Forward operations\n",
    "A_aug_2 = A_aug.copy()\n",
    "\n",
    "for step in range(row): #[0,1,2]\n",
    "    print(\"step:\",step)\n",
    "    \n",
    "    # If pivot cell value is 0, swap rows such that it stays non zero\n",
    "    \n",
    "    if A_aug_2[step,step] != 0:\n",
    "        A_aug_2[step,:] = A_aug_2[step,:]*(1/A_aug_2[step,step])\n",
    "    else: # swap rows\n",
    "        r1 = A_aug_2[step,:].copy()\n",
    "        for r in range(step+1, row):\n",
    "            if A_aug_2[r,step] !=0:\n",
    "                A_aug_2[step,:] = A_aug_2[r,:]\n",
    "                A_aug_2[r,:] = r1\n",
    "                A_aug_2[step,:] = A_aug_2[step,:]*(1/A_aug_2[step,step])\n",
    "                break\n",
    "            else:\n",
    "                continue\n",
    "                \n",
    "    print(\"A_aug:\\n\",A_aug_2)\n",
    "    for r in range(step+1,row):\n",
    "#         print('r:',r)\n",
    "        A_aug_2[r,:] = (-1)*A_aug_2[r,step]*A_aug_2[step,:] + A_aug_2[r,:] \n",
    "        print(\"A_aug:\\n\", A_aug_2)\n",
    "        \n",
    "# Backward substitution\n",
    "for step in range(row-1,-1,-1): # [2,1,0]\n",
    "    for r in range(step-1,-1, -1):\n",
    "        print('r:',r)\n",
    "        A_aug_2[r,:] = (-1)*A_aug_2[r,step]*A_aug_2[step,:] + A_aug_2[r,:]\n",
    "        print(\"A_aug:\\n\", A_aug_2)\n",
    "\n",
    "# A_aug_2"
   ]
  },
  {
   "cell_type": "code",
   "execution_count": 85,
   "id": "24fdd178",
   "metadata": {},
   "outputs": [],
   "source": [
    "def solve_Gauss_elim(aug_mat):\n",
    "    A_aug_2 = aug_mat.copy()\n",
    "\n",
    "    for step in range(row): #[0,1,2]\n",
    "#         print(\"step:\",step)\n",
    "    \n",
    "    # If pivot cell value is 0, swap rows such that it stays non zero\n",
    "    \n",
    "        if A_aug_2[step,step] != 0:\n",
    "            A_aug_2[step,:] = A_aug_2[step,:]*(1/A_aug_2[step,step])\n",
    "        else: # swap rows\n",
    "            r1 = A_aug_2[step,:].copy()\n",
    "            for r in range(step+1, row):\n",
    "                if A_aug_2[r,step] !=0:\n",
    "                    A_aug_2[step,:] = A_aug_2[r,:]\n",
    "                    A_aug_2[r,:] = r1\n",
    "                    A_aug_2[step,:] = A_aug_2[step,:]*(1/A_aug_2[step,step])\n",
    "                    break\n",
    "                else:\n",
    "                    continue\n",
    "                \n",
    "#         print(\"A_aug:\\n\",A_aug_2)\n",
    "        for r in range(step+1,row):\n",
    "#         print('r:',r)\n",
    "            A_aug_2[r,:] = (-1)*A_aug_2[r,step]*A_aug_2[step,:] + A_aug_2[r,:] \n",
    "#             print(\"A_aug:\\n\", A_aug_2)\n",
    "        \n",
    "# Backward substitution\n",
    "    for step in range(row-1,-1,-1): # [2,1,0]\n",
    "        for r in range(step-1,-1, -1):\n",
    "#             print('r:',r)\n",
    "            A_aug_2[r,:] = (-1)*A_aug_2[r,step]*A_aug_2[step,:] + A_aug_2[r,:]\n",
    "#             print(\"A_aug:\\n\", A_aug_2)\n",
    "    return A_aug_2"
   ]
  },
  {
   "cell_type": "code",
   "execution_count": 92,
   "id": "e642f594",
   "metadata": {},
   "outputs": [
    {
     "data": {
      "text/plain": [
       "array([[ 1.        ,  0.        ,  0.        ,  2.        ],\n",
       "       [ 0.        ,  1.        ,  0.        , -0.71428585],\n",
       "       [-0.        , -0.        ,  1.        ,  1.1428572 ]],\n",
       "      dtype=float32)"
      ]
     },
     "execution_count": 92,
     "metadata": {},
     "output_type": "execute_result"
    }
   ],
   "source": [
    "solve_Gauss_elim(np.array([[0,1,5,5],[2,0,7,12],[1,1,-2,-1]]).astype(np.float32))"
   ]
  },
  {
   "cell_type": "code",
   "execution_count": 90,
   "id": "6cbe3c40",
   "metadata": {},
   "outputs": [],
   "source": [
    "A1 = np.array([[0,1,5,5],[2,0,7,12],[1,1,-2,-1]])"
   ]
  },
  {
   "cell_type": "code",
   "execution_count": 91,
   "id": "4fdd7bb1",
   "metadata": {},
   "outputs": [
    {
     "data": {
      "text/plain": [
       "array([ 2.        , -0.71428571,  1.14285714])"
      ]
     },
     "execution_count": 91,
     "metadata": {},
     "output_type": "execute_result"
    }
   ],
   "source": [
    "np.linalg.inv(A1[:,:3]).dot(A1[:,3])"
   ]
  },
  {
   "cell_type": "code",
   "execution_count": null,
   "id": "0892d205",
   "metadata": {},
   "outputs": [],
   "source": []
  },
  {
   "cell_type": "code",
   "execution_count": null,
   "id": "3ea186ef",
   "metadata": {},
   "outputs": [],
   "source": []
  },
  {
   "cell_type": "code",
   "execution_count": null,
   "id": "bc3db22c",
   "metadata": {},
   "outputs": [],
   "source": []
  }
 ],
 "metadata": {
  "kernelspec": {
   "display_name": "Python 3 (ipykernel)",
   "language": "python",
   "name": "python3"
  },
  "language_info": {
   "codemirror_mode": {
    "name": "ipython",
    "version": 3
   },
   "file_extension": ".py",
   "mimetype": "text/x-python",
   "name": "python",
   "nbconvert_exporter": "python",
   "pygments_lexer": "ipython3",
   "version": "3.8.11"
  }
 },
 "nbformat": 4,
 "nbformat_minor": 5
}
