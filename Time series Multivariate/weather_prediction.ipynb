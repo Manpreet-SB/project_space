{
  "cells": [
    {
      "cell_type": "markdown",
      "id": "4109657d",
      "metadata": {
        "papermill": {
          "duration": 0.018124,
          "end_time": "2022-06-14T09:42:52.263987",
          "exception": false,
          "start_time": "2022-06-14T09:42:52.245863",
          "status": "completed"
        },
        "tags": [],
        "id": "4109657d"
      },
      "source": [
        "# **Weather Prediction - Time Series Forecasting Models**"
      ]
    },
    {
      "cell_type": "code",
      "execution_count": 2,
      "id": "0366b722",
      "metadata": {
        "_cell_guid": "b1076dfc-b9ad-4769-8c92-a6c4dae69d19",
        "_uuid": "8f2839f25d086af736a60e9eeb907d3b93b6e0e5",
        "execution": {
          "iopub.execute_input": "2022-06-14T09:42:52.354339Z",
          "iopub.status.busy": "2022-06-14T09:42:52.353481Z",
          "iopub.status.idle": "2022-06-14T09:42:53.584868Z",
          "shell.execute_reply": "2022-06-14T09:42:53.583958Z"
        },
        "papermill": {
          "duration": 1.255409,
          "end_time": "2022-06-14T09:42:53.587957",
          "exception": false,
          "start_time": "2022-06-14T09:42:52.332548",
          "status": "completed"
        },
        "tags": [],
        "id": "0366b722"
      },
      "outputs": [],
      "source": [
        "import pandas as pd\n",
        "import matplotlib.pyplot as plt\n",
        "import numpy as np\n",
        "import seaborn as sns\n",
        "from copy import copy\n",
        "import warnings\n",
        "warnings.filterwarnings('ignore')"
      ]
    },
    {
      "cell_type": "code",
      "execution_count": 3,
      "id": "539a0643",
      "metadata": {
        "execution": {
          "iopub.execute_input": "2022-06-14T09:42:53.688025Z",
          "iopub.status.busy": "2022-06-14T09:42:53.687550Z",
          "iopub.status.idle": "2022-06-14T09:43:48.317041Z",
          "shell.execute_reply": "2022-06-14T09:43:48.315545Z"
        },
        "papermill": {
          "duration": 54.674594,
          "end_time": "2022-06-14T09:43:48.344085",
          "exception": false,
          "start_time": "2022-06-14T09:42:53.669491",
          "status": "completed"
        },
        "tags": [],
        "colab": {
          "base_uri": "https://localhost:8080/",
          "height": 206
        },
        "id": "539a0643",
        "outputId": "ad71dfb3-8684-4029-f936-4eee7f0d6f0f"
      },
      "outputs": [
        {
          "output_type": "execute_result",
          "data": {
            "text/plain": [
              "        date location_key  average_temperature_celsius  \\\n",
              "0 2020-01-01           AD                     4.236111   \n",
              "1 2020-01-02           AD                     3.875000   \n",
              "2 2020-01-03           AD                     4.763889   \n",
              "3 2020-01-04           AD                     4.555556   \n",
              "4 2020-01-05           AD                     4.763889   \n",
              "\n",
              "   minimum_temperature_celsius  maximum_temperature_celsius  rainfall_mm  \\\n",
              "0                     0.138889                     8.208333     3.302000   \n",
              "1                    -0.722222                    10.055556     6.688667   \n",
              "2                     0.597222                     8.402778     5.016500   \n",
              "3                     1.125000                     8.708333     3.810000   \n",
              "4                    -1.000000                    11.361111     2.476500   \n",
              "\n",
              "   snowfall_mm  dew_point  relative_humidity  \n",
              "0          NaN  -0.972222          72.773049  \n",
              "1          NaN  -1.625000          70.841314  \n",
              "2          NaN  -0.611111          71.117248  \n",
              "3          NaN   0.722222          77.338640  \n",
              "4          NaN  -3.361111          60.762380  "
            ],
            "text/html": [
              "\n",
              "  <div id=\"df-32f2a92f-990e-4911-95aa-54366ec28a6b\">\n",
              "    <div class=\"colab-df-container\">\n",
              "      <div>\n",
              "<style scoped>\n",
              "    .dataframe tbody tr th:only-of-type {\n",
              "        vertical-align: middle;\n",
              "    }\n",
              "\n",
              "    .dataframe tbody tr th {\n",
              "        vertical-align: top;\n",
              "    }\n",
              "\n",
              "    .dataframe thead th {\n",
              "        text-align: right;\n",
              "    }\n",
              "</style>\n",
              "<table border=\"1\" class=\"dataframe\">\n",
              "  <thead>\n",
              "    <tr style=\"text-align: right;\">\n",
              "      <th></th>\n",
              "      <th>date</th>\n",
              "      <th>location_key</th>\n",
              "      <th>average_temperature_celsius</th>\n",
              "      <th>minimum_temperature_celsius</th>\n",
              "      <th>maximum_temperature_celsius</th>\n",
              "      <th>rainfall_mm</th>\n",
              "      <th>snowfall_mm</th>\n",
              "      <th>dew_point</th>\n",
              "      <th>relative_humidity</th>\n",
              "    </tr>\n",
              "  </thead>\n",
              "  <tbody>\n",
              "    <tr>\n",
              "      <th>0</th>\n",
              "      <td>2020-01-01</td>\n",
              "      <td>AD</td>\n",
              "      <td>4.236111</td>\n",
              "      <td>0.138889</td>\n",
              "      <td>8.208333</td>\n",
              "      <td>3.302000</td>\n",
              "      <td>NaN</td>\n",
              "      <td>-0.972222</td>\n",
              "      <td>72.773049</td>\n",
              "    </tr>\n",
              "    <tr>\n",
              "      <th>1</th>\n",
              "      <td>2020-01-02</td>\n",
              "      <td>AD</td>\n",
              "      <td>3.875000</td>\n",
              "      <td>-0.722222</td>\n",
              "      <td>10.055556</td>\n",
              "      <td>6.688667</td>\n",
              "      <td>NaN</td>\n",
              "      <td>-1.625000</td>\n",
              "      <td>70.841314</td>\n",
              "    </tr>\n",
              "    <tr>\n",
              "      <th>2</th>\n",
              "      <td>2020-01-03</td>\n",
              "      <td>AD</td>\n",
              "      <td>4.763889</td>\n",
              "      <td>0.597222</td>\n",
              "      <td>8.402778</td>\n",
              "      <td>5.016500</td>\n",
              "      <td>NaN</td>\n",
              "      <td>-0.611111</td>\n",
              "      <td>71.117248</td>\n",
              "    </tr>\n",
              "    <tr>\n",
              "      <th>3</th>\n",
              "      <td>2020-01-04</td>\n",
              "      <td>AD</td>\n",
              "      <td>4.555556</td>\n",
              "      <td>1.125000</td>\n",
              "      <td>8.708333</td>\n",
              "      <td>3.810000</td>\n",
              "      <td>NaN</td>\n",
              "      <td>0.722222</td>\n",
              "      <td>77.338640</td>\n",
              "    </tr>\n",
              "    <tr>\n",
              "      <th>4</th>\n",
              "      <td>2020-01-05</td>\n",
              "      <td>AD</td>\n",
              "      <td>4.763889</td>\n",
              "      <td>-1.000000</td>\n",
              "      <td>11.361111</td>\n",
              "      <td>2.476500</td>\n",
              "      <td>NaN</td>\n",
              "      <td>-3.361111</td>\n",
              "      <td>60.762380</td>\n",
              "    </tr>\n",
              "  </tbody>\n",
              "</table>\n",
              "</div>\n",
              "      <button class=\"colab-df-convert\" onclick=\"convertToInteractive('df-32f2a92f-990e-4911-95aa-54366ec28a6b')\"\n",
              "              title=\"Convert this dataframe to an interactive table.\"\n",
              "              style=\"display:none;\">\n",
              "        \n",
              "  <svg xmlns=\"http://www.w3.org/2000/svg\" height=\"24px\"viewBox=\"0 0 24 24\"\n",
              "       width=\"24px\">\n",
              "    <path d=\"M0 0h24v24H0V0z\" fill=\"none\"/>\n",
              "    <path d=\"M18.56 5.44l.94 2.06.94-2.06 2.06-.94-2.06-.94-.94-2.06-.94 2.06-2.06.94zm-11 1L8.5 8.5l.94-2.06 2.06-.94-2.06-.94L8.5 2.5l-.94 2.06-2.06.94zm10 10l.94 2.06.94-2.06 2.06-.94-2.06-.94-.94-2.06-.94 2.06-2.06.94z\"/><path d=\"M17.41 7.96l-1.37-1.37c-.4-.4-.92-.59-1.43-.59-.52 0-1.04.2-1.43.59L10.3 9.45l-7.72 7.72c-.78.78-.78 2.05 0 2.83L4 21.41c.39.39.9.59 1.41.59.51 0 1.02-.2 1.41-.59l7.78-7.78 2.81-2.81c.8-.78.8-2.07 0-2.86zM5.41 20L4 18.59l7.72-7.72 1.47 1.35L5.41 20z\"/>\n",
              "  </svg>\n",
              "      </button>\n",
              "      \n",
              "  <style>\n",
              "    .colab-df-container {\n",
              "      display:flex;\n",
              "      flex-wrap:wrap;\n",
              "      gap: 12px;\n",
              "    }\n",
              "\n",
              "    .colab-df-convert {\n",
              "      background-color: #E8F0FE;\n",
              "      border: none;\n",
              "      border-radius: 50%;\n",
              "      cursor: pointer;\n",
              "      display: none;\n",
              "      fill: #1967D2;\n",
              "      height: 32px;\n",
              "      padding: 0 0 0 0;\n",
              "      width: 32px;\n",
              "    }\n",
              "\n",
              "    .colab-df-convert:hover {\n",
              "      background-color: #E2EBFA;\n",
              "      box-shadow: 0px 1px 2px rgba(60, 64, 67, 0.3), 0px 1px 3px 1px rgba(60, 64, 67, 0.15);\n",
              "      fill: #174EA6;\n",
              "    }\n",
              "\n",
              "    [theme=dark] .colab-df-convert {\n",
              "      background-color: #3B4455;\n",
              "      fill: #D2E3FC;\n",
              "    }\n",
              "\n",
              "    [theme=dark] .colab-df-convert:hover {\n",
              "      background-color: #434B5C;\n",
              "      box-shadow: 0px 1px 3px 1px rgba(0, 0, 0, 0.15);\n",
              "      filter: drop-shadow(0px 1px 2px rgba(0, 0, 0, 0.3));\n",
              "      fill: #FFFFFF;\n",
              "    }\n",
              "  </style>\n",
              "\n",
              "      <script>\n",
              "        const buttonEl =\n",
              "          document.querySelector('#df-32f2a92f-990e-4911-95aa-54366ec28a6b button.colab-df-convert');\n",
              "        buttonEl.style.display =\n",
              "          google.colab.kernel.accessAllowed ? 'block' : 'none';\n",
              "\n",
              "        async function convertToInteractive(key) {\n",
              "          const element = document.querySelector('#df-32f2a92f-990e-4911-95aa-54366ec28a6b');\n",
              "          const dataTable =\n",
              "            await google.colab.kernel.invokeFunction('convertToInteractive',\n",
              "                                                     [key], {});\n",
              "          if (!dataTable) return;\n",
              "\n",
              "          const docLinkHtml = 'Like what you see? Visit the ' +\n",
              "            '<a target=\"_blank\" href=https://colab.research.google.com/notebooks/data_table.ipynb>data table notebook</a>'\n",
              "            + ' to learn more about interactive tables.';\n",
              "          element.innerHTML = '';\n",
              "          dataTable['output_type'] = 'display_data';\n",
              "          await google.colab.output.renderOutput(dataTable, element);\n",
              "          const docLink = document.createElement('div');\n",
              "          docLink.innerHTML = docLinkHtml;\n",
              "          element.appendChild(docLink);\n",
              "        }\n",
              "      </script>\n",
              "    </div>\n",
              "  </div>\n",
              "  "
            ]
          },
          "metadata": {},
          "execution_count": 3
        }
      ],
      "source": [
        "weather = pd.read_csv('https://storage.googleapis.com/covid19-open-data/v3/weather.csv')\n",
        "weather['date'] = pd.to_datetime(weather['date'])\n",
        "weather.head()"
      ]
    },
    {
      "cell_type": "code",
      "execution_count": 4,
      "id": "ed610b1e",
      "metadata": {
        "execution": {
          "iopub.execute_input": "2022-06-14T09:43:48.387196Z",
          "iopub.status.busy": "2022-06-14T09:43:48.386328Z",
          "iopub.status.idle": "2022-06-14T09:43:49.927788Z",
          "shell.execute_reply": "2022-06-14T09:43:49.926923Z"
        },
        "papermill": {
          "duration": 1.56288,
          "end_time": "2022-06-14T09:43:49.929957",
          "exception": false,
          "start_time": "2022-06-14T09:43:48.367077",
          "status": "completed"
        },
        "tags": [],
        "colab": {
          "base_uri": "https://localhost:8080/"
        },
        "id": "ed610b1e",
        "outputId": "b2ff294c-44e1-4ce1-f823-eeb120e47678"
      },
      "outputs": [
        {
          "output_type": "execute_result",
          "data": {
            "text/plain": [
              "['AD',\n",
              " 'AE',\n",
              " 'AF',\n",
              " 'AF_BAL',\n",
              " 'AF_BAM',\n",
              " 'AF_BDG',\n",
              " 'AF_BDS',\n",
              " 'AF_BGL',\n",
              " 'AF_DAY',\n",
              " 'AF_FRA',\n",
              " 'AF_FYB',\n",
              " 'AF_GHA',\n",
              " 'AF_GHO',\n",
              " 'AF_HEL',\n",
              " 'AF_HER',\n",
              " 'AF_JOW',\n",
              " 'AF_KAB',\n",
              " 'AF_KAN',\n",
              " 'AF_KAP',\n",
              " 'AF_KDZ',\n",
              " 'AF_KHO',\n",
              " 'AF_KNR',\n",
              " 'AF_LAG',\n",
              " 'AF_LOG',\n",
              " 'AF_NAN',\n",
              " 'AF_NIM',\n",
              " 'AF_NUR',\n",
              " 'AF_PAN',\n",
              " 'AF_PAR',\n",
              " 'AF_PIA',\n",
              " 'AF_PKA',\n",
              " 'AF_SAM',\n",
              " 'AF_SAR',\n",
              " 'AF_TAK',\n",
              " 'AF_URU',\n",
              " 'AF_WAR',\n",
              " 'AF_ZAB',\n",
              " 'AG',\n",
              " 'AI',\n",
              " 'AL',\n",
              " 'AM',\n",
              " 'AO',\n",
              " 'AQ',\n",
              " 'AR',\n",
              " 'AR_A',\n",
              " 'AR_A_007',\n",
              " 'AR_A_014',\n",
              " 'AR_A_021',\n",
              " 'AR_A_028',\n",
              " 'AR_A_035']"
            ]
          },
          "metadata": {},
          "execution_count": 4
        }
      ],
      "source": [
        "list(weather['location_key'].unique())[0:50]"
      ]
    },
    {
      "cell_type": "code",
      "execution_count": 5,
      "id": "258e00d5",
      "metadata": {
        "execution": {
          "iopub.execute_input": "2022-06-14T09:43:49.965444Z",
          "iopub.status.busy": "2022-06-14T09:43:49.965002Z",
          "iopub.status.idle": "2022-06-14T09:43:52.801344Z",
          "shell.execute_reply": "2022-06-14T09:43:52.800285Z"
        },
        "papermill": {
          "duration": 2.857017,
          "end_time": "2022-06-14T09:43:52.803543",
          "exception": false,
          "start_time": "2022-06-14T09:43:49.946526",
          "status": "completed"
        },
        "tags": [],
        "colab": {
          "base_uri": "https://localhost:8080/"
        },
        "id": "258e00d5",
        "outputId": "40c448e7-5abd-438a-c3ec-97b7020c8dc4"
      },
      "outputs": [
        {
          "output_type": "execute_result",
          "data": {
            "text/plain": [
              "(929, 9)"
            ]
          },
          "metadata": {},
          "execution_count": 5
        }
      ],
      "source": [
        "weather = weather[weather['location_key']=='AD']\n",
        "weather.shape"
      ]
    },
    {
      "cell_type": "code",
      "execution_count": 6,
      "id": "d6a2680c",
      "metadata": {
        "execution": {
          "iopub.execute_input": "2022-06-14T09:43:52.839946Z",
          "iopub.status.busy": "2022-06-14T09:43:52.839472Z",
          "iopub.status.idle": "2022-06-14T09:43:52.868428Z",
          "shell.execute_reply": "2022-06-14T09:43:52.867387Z"
        },
        "papermill": {
          "duration": 0.050578,
          "end_time": "2022-06-14T09:43:52.871122",
          "exception": false,
          "start_time": "2022-06-14T09:43:52.820544",
          "status": "completed"
        },
        "tags": [],
        "colab": {
          "base_uri": "https://localhost:8080/"
        },
        "id": "d6a2680c",
        "outputId": "4c13b314-cae4-4d37-e8d8-06696c9faa64"
      },
      "outputs": [
        {
          "output_type": "stream",
          "name": "stdout",
          "text": [
            "<class 'pandas.core.frame.DataFrame'>\n",
            "Int64Index: 929 entries, 0 to 928\n",
            "Data columns (total 9 columns):\n",
            " #   Column                       Non-Null Count  Dtype         \n",
            "---  ------                       --------------  -----         \n",
            " 0   date                         929 non-null    datetime64[ns]\n",
            " 1   location_key                 929 non-null    object        \n",
            " 2   average_temperature_celsius  929 non-null    float64       \n",
            " 3   minimum_temperature_celsius  929 non-null    float64       \n",
            " 4   maximum_temperature_celsius  929 non-null    float64       \n",
            " 5   rainfall_mm                  929 non-null    float64       \n",
            " 6   snowfall_mm                  78 non-null     float64       \n",
            " 7   dew_point                    929 non-null    float64       \n",
            " 8   relative_humidity            929 non-null    float64       \n",
            "dtypes: datetime64[ns](1), float64(7), object(1)\n",
            "memory usage: 72.6+ KB\n"
          ]
        }
      ],
      "source": [
        "weather.info()"
      ]
    },
    {
      "cell_type": "code",
      "execution_count": 7,
      "id": "d59dffec",
      "metadata": {
        "execution": {
          "iopub.execute_input": "2022-06-14T09:43:52.909225Z",
          "iopub.status.busy": "2022-06-14T09:43:52.908361Z",
          "iopub.status.idle": "2022-06-14T09:43:53.321608Z",
          "shell.execute_reply": "2022-06-14T09:43:53.320618Z"
        },
        "papermill": {
          "duration": 0.434838,
          "end_time": "2022-06-14T09:43:53.324146",
          "exception": false,
          "start_time": "2022-06-14T09:43:52.889308",
          "status": "completed"
        },
        "tags": [],
        "colab": {
          "base_uri": "https://localhost:8080/",
          "height": 375
        },
        "id": "d59dffec",
        "outputId": "070a7afa-17e9-4b20-c50a-67dc7bf395bc"
      },
      "outputs": [
        {
          "output_type": "display_data",
          "data": {
            "text/plain": [
              "<Figure size 1080x432 with 1 Axes>"
            ],
            "image/png": "[encoded data removed]"
          },
          "metadata": {
            "needs_background": "light"
          }
        }
      ],
      "source": [
        "weather_df = weather[['date', 'average_temperature_celsius']]\n",
        "weather_df.plot(x = 'date', y = 'average_temperature_celsius', figsize= (15,6));"
      ]
    },
    {
      "cell_type": "code",
      "execution_count": 8,
      "id": "377db071",
      "metadata": {
        "execution": {
          "iopub.execute_input": "2022-06-14T09:43:53.402571Z",
          "iopub.status.busy": "2022-06-14T09:43:53.401727Z",
          "iopub.status.idle": "2022-06-14T09:43:53.671670Z",
          "shell.execute_reply": "2022-06-14T09:43:53.670383Z"
        },
        "papermill": {
          "duration": 0.296501,
          "end_time": "2022-06-14T09:43:53.678488",
          "exception": false,
          "start_time": "2022-06-14T09:43:53.381987",
          "status": "completed"
        },
        "tags": [],
        "colab": {
          "base_uri": "https://localhost:8080/"
        },
        "id": "377db071",
        "outputId": "6f025362-9996-4f22-a727-6344b90df7f2"
      },
      "outputs": [
        {
          "output_type": "stream",
          "name": "stdout",
          "text": [
            "ADF Statistic: -1.996040\n",
            "p-value: 0.288312\n",
            "n_lags: 0.28831225761242074\n",
            "Critical Values:\n",
            "\t1%: -3.437\n",
            "\t5%: -2.865\n",
            "\t10%: -2.568\n",
            "Failed to Reject Ho - So Time Series is Non-Stationary\n"
          ]
        }
      ],
      "source": [
        "# Augmented Dickey Fuller test (ADF Test) \n",
        "from statsmodels.tsa.stattools import adfuller\n",
        "data = weather['average_temperature_celsius']\n",
        "result = adfuller(data, autolag='AIC')\n",
        "print('ADF Statistic: %f' % result[0])\n",
        "\n",
        "print('p-value: %f' % result[1])\n",
        "print(f'n_lags: {result[1]}')\n",
        "\n",
        "print('Critical Values:')\n",
        "\n",
        "for key, value in result[4].items():\n",
        "    print('\\t%s: %.3f' % (key, value))\n",
        "if result[0] < result[4][\"5%\"]:\n",
        "    print (\"Reject Ho - Time Series is Stationary\")\n",
        "else:\n",
        "    print (\"Failed to Reject Ho - So Time Series is Non-Stationary\")"
      ]
    },
    {
      "cell_type": "code",
      "execution_count": 9,
      "id": "3203b2c9",
      "metadata": {
        "execution": {
          "iopub.execute_input": "2022-06-14T09:43:53.843379Z",
          "iopub.status.busy": "2022-06-14T09:43:53.842903Z",
          "iopub.status.idle": "2022-06-14T09:43:53.866992Z",
          "shell.execute_reply": "2022-06-14T09:43:53.865845Z"
        },
        "papermill": {
          "duration": 0.046067,
          "end_time": "2022-06-14T09:43:53.869091",
          "exception": false,
          "start_time": "2022-06-14T09:43:53.823024",
          "status": "completed"
        },
        "tags": [],
        "colab": {
          "base_uri": "https://localhost:8080/"
        },
        "id": "3203b2c9",
        "outputId": "7302bbb2-c18b-4fab-8396-0569a13076bc"
      },
      "outputs": [
        {
          "output_type": "execute_result",
          "data": {
            "text/plain": [
              "date\n",
              "2020-01-01     4.236111\n",
              "2020-01-02     3.875000\n",
              "2020-01-03     4.763889\n",
              "2020-01-04     4.555556\n",
              "2020-01-05     4.763889\n",
              "                ...    \n",
              "2022-07-16    28.753968\n",
              "2022-07-17    29.214286\n",
              "2022-07-18    29.619048\n",
              "2022-07-19    26.841270\n",
              "2022-07-20    25.531746\n",
              "Name: average_temperature_celsius, Length: 929, dtype: float64"
            ]
          },
          "metadata": {},
          "execution_count": 9
        }
      ],
      "source": [
        "weather_df = weather[weather['location_key']=='AD']\n",
        "weather_df['date'] = pd.to_datetime(weather_df['date'])\n",
        "weather_df['date'] = weather_df.date.dt.to_period('D')\n",
        "weather_df = weather.groupby('date').mean().squeeze()\n",
        "weather_df = weather_df['average_temperature_celsius']\n",
        "weather_df"
      ]
    },
    {
      "cell_type": "code",
      "execution_count": 12,
      "id": "de0febfc",
      "metadata": {
        "execution": {
          "iopub.execute_input": "2022-06-14T09:44:06.371142Z",
          "iopub.status.busy": "2022-06-14T09:44:06.370653Z",
          "iopub.status.idle": "2022-06-14T09:44:06.389165Z",
          "shell.execute_reply": "2022-06-14T09:44:06.388385Z"
        },
        "papermill": {
          "duration": 0.042707,
          "end_time": "2022-06-14T09:44:06.391584",
          "exception": false,
          "start_time": "2022-06-14T09:44:06.348877",
          "status": "completed"
        },
        "tags": [],
        "colab": {
          "base_uri": "https://localhost:8080/"
        },
        "id": "de0febfc",
        "outputId": "85b14919-be0b-4aa6-c33c-72d168970b0f"
      },
      "outputs": [
        {
          "output_type": "execute_result",
          "data": {
            "text/plain": [
              "date\n",
              "2020-01-01     4.236111\n",
              "2020-01-02     3.875000\n",
              "2020-01-03     4.763889\n",
              "2020-01-04     4.555556\n",
              "2020-01-05     4.763889\n",
              "                ...    \n",
              "2022-07-16    28.753968\n",
              "2022-07-17    29.214286\n",
              "2022-07-18    29.619048\n",
              "2022-07-19    26.841270\n",
              "2022-07-20    25.531746\n",
              "Freq: D, Name: average_temperature_celsius, Length: 929, dtype: float64"
            ]
          },
          "metadata": {},
          "execution_count": 12
        }
      ],
      "source": [
        "weather_df = weather[weather['location_key']=='AD']\n",
        "weather_df['date'] = pd.to_datetime(weather_df['date'])\n",
        "#weather_df['date'] = weather_df.date.dt.to_period('D')\n",
        "\n",
        "weather_df = weather.groupby('date').mean().squeeze()\n",
        "weather_df = weather_df['average_temperature_celsius']\n",
        "weather_df.index = weather_df.index.to_period(\"D\")\n",
        "weather_df"
      ]
    },
    {
      "cell_type": "code",
      "execution_count": 15,
      "id": "99b01116",
      "metadata": {
        "execution": {
          "iopub.execute_input": "2022-06-14T09:44:06.435606Z",
          "iopub.status.busy": "2022-06-14T09:44:06.434957Z",
          "iopub.status.idle": "2022-06-14T09:44:07.252633Z",
          "shell.execute_reply": "2022-06-14T09:44:07.251875Z"
        },
        "papermill": {
          "duration": 0.842987,
          "end_time": "2022-06-14T09:44:07.255252",
          "exception": false,
          "start_time": "2022-06-14T09:44:06.412265",
          "status": "completed"
        },
        "tags": [],
        "id": "99b01116"
      },
      "outputs": [],
      "source": [
        "weather_df = weather[weather['location_key']=='AD']\n",
        "weather_df['date'] = pd.to_datetime(weather_df['date'])\n",
        "weather_df = weather.groupby('date').mean().squeeze()\n",
        "weather_df = weather_df['average_temperature_celsius']\n",
        "weather_df.index = weather_df.index.to_period(\"D\") \n",
        "# Index should be datetimeindex or periodindex \n",
        "#(A for Annual, Q for Quarterly, M for monthly frequency, W for Week, D for daily frequency, H for Houly)\n",
        "y = weather_df.copy()\n",
        "\n",
        "\n",
        "from statsmodels.tsa.deterministic import CalendarFourier, DeterministicProcess\n",
        "#Multiple Seasonalities can be captured using additional terms. Fourier components can be used to alternatively capture seasonal patterns.\n",
        "fourier = CalendarFourier(freq=\"A\", order=4)  # 4 sin/cos pairs for \"A\"nnual seasonality\n",
        "\n",
        "\n",
        "#First a determinstic process with a constant and quadratic time trend.\n",
        "dp = DeterministicProcess(\n",
        "    index= y.index,\n",
        "    constant=True,\n",
        "    order=2,#Polynomial degree 2.  2 will include both linear and quadratic terms. 0 exclude time trend terms.\n",
        "    # YOUR CODE HERE\n",
        "    seasonal=True,               # Daily seasonality (indicators). Seasonal dummies are included by setting seasonal to True.\n",
        "    additional_terms=[fourier],  # Annual seasonality (fourier). to alternatively capture seasonal patterns \n",
        "    #drop=True,\n",
        ")\n",
        "X = dp.in_sample()  # Produce deterministic trends for in-sample fitting\n",
        "\n",
        "# Now fit the seasonal model.\n",
        "# With our feature set created, we're ready to fit the model and make predictions. \n",
        "# We'll add a 16-day forecast to see how our model extrapolates beyond the training data. \n",
        "from sklearn.linear_model import LinearRegression\n",
        "model = LinearRegression().fit(X, y)\n",
        "\n",
        "y_pred = pd.Series(model.predict(X), index=X.index)\n",
        "X_fore = dp.out_of_sample(steps=18) #Produce deterministic trends for out-of-sample forecasts\n",
        "y_fore = pd.Series(model.predict(X_fore), index=X_fore.index)\n"
      ]
    },
    {
      "cell_type": "code",
      "execution_count": 16,
      "id": "b65034e1",
      "metadata": {
        "execution": {
          "iopub.execute_input": "2022-06-14T09:44:07.301558Z",
          "iopub.status.busy": "2022-06-14T09:44:07.300950Z",
          "iopub.status.idle": "2022-06-14T09:44:07.322933Z",
          "shell.execute_reply": "2022-06-14T09:44:07.322095Z"
        },
        "papermill": {
          "duration": 0.048204,
          "end_time": "2022-06-14T09:44:07.325488",
          "exception": false,
          "start_time": "2022-06-14T09:44:07.277284",
          "status": "completed"
        },
        "tags": [],
        "colab": {
          "base_uri": "https://localhost:8080/",
          "height": 259
        },
        "id": "b65034e1",
        "outputId": "40671d71-65bd-41a9-b09b-86f2554565ac"
      },
      "outputs": [
        {
          "output_type": "execute_result",
          "data": {
            "text/plain": [
              "            const  trend  trend_squared  s(2,7)  s(3,7)  s(4,7)  s(5,7)  \\\n",
              "date                                                                      \n",
              "2020-01-01    1.0    1.0            1.0     0.0     0.0     0.0     0.0   \n",
              "2020-01-02    1.0    2.0            4.0     1.0     0.0     0.0     0.0   \n",
              "\n",
              "            s(6,7)  s(7,7)  sin(1,freq=A-DEC)  cos(1,freq=A-DEC)  \\\n",
              "date                                                               \n",
              "2020-01-01     0.0     0.0           0.000000           1.000000   \n",
              "2020-01-02     0.0     0.0           0.017166           0.999853   \n",
              "\n",
              "            sin(2,freq=A-DEC)  cos(2,freq=A-DEC)  sin(3,freq=A-DEC)  \\\n",
              "date                                                                  \n",
              "2020-01-01           0.000000           1.000000           0.000000   \n",
              "2020-01-02           0.034328           0.999411           0.051479   \n",
              "\n",
              "            cos(3,freq=A-DEC)  sin(4,freq=A-DEC)  cos(4,freq=A-DEC)  \n",
              "date                                                                 \n",
              "2020-01-01           1.000000           0.000000           1.000000  \n",
              "2020-01-02           0.998674           0.068615           0.997643  "
            ],
            "text/html": [
              "\n",
              "  <div id=\"df-0990dfa1-661d-4d90-9cd5-85e908dc57ae\">\n",
              "    <div class=\"colab-df-container\">\n",
              "      <div>\n",
              "<style scoped>\n",
              "    .dataframe tbody tr th:only-of-type {\n",
              "        vertical-align: middle;\n",
              "    }\n",
              "\n",
              "    .dataframe tbody tr th {\n",
              "        vertical-align: top;\n",
              "    }\n",
              "\n",
              "    .dataframe thead th {\n",
              "        text-align: right;\n",
              "    }\n",
              "</style>\n",
              "<table border=\"1\" class=\"dataframe\">\n",
              "  <thead>\n",
              "    <tr style=\"text-align: right;\">\n",
              "      <th></th>\n",
              "      <th>const</th>\n",
              "      <th>trend</th>\n",
              "      <th>trend_squared</th>\n",
              "      <th>s(2,7)</th>\n",
              "      <th>s(3,7)</th>\n",
              "      <th>s(4,7)</th>\n",
              "      <th>s(5,7)</th>\n",
              "      <th>s(6,7)</th>\n",
              "      <th>s(7,7)</th>\n",
              "      <th>sin(1,freq=A-DEC)</th>\n",
              "      <th>cos(1,freq=A-DEC)</th>\n",
              "      <th>sin(2,freq=A-DEC)</th>\n",
              "      <th>cos(2,freq=A-DEC)</th>\n",
              "      <th>sin(3,freq=A-DEC)</th>\n",
              "      <th>cos(3,freq=A-DEC)</th>\n",
              "      <th>sin(4,freq=A-DEC)</th>\n",
              "      <th>cos(4,freq=A-DEC)</th>\n",
              "    </tr>\n",
              "    <tr>\n",
              "      <th>date</th>\n",
              "      <th></th>\n",
              "      <th></th>\n",
              "      <th></th>\n",
              "      <th></th>\n",
              "      <th></th>\n",
              "      <th></th>\n",
              "      <th></th>\n",
              "      <th></th>\n",
              "      <th></th>\n",
              "      <th></th>\n",
              "      <th></th>\n",
              "      <th></th>\n",
              "      <th></th>\n",
              "      <th></th>\n",
              "      <th></th>\n",
              "      <th></th>\n",
              "      <th></th>\n",
              "    </tr>\n",
              "  </thead>\n",
              "  <tbody>\n",
              "    <tr>\n",
              "      <th>2020-01-01</th>\n",
              "      <td>1.0</td>\n",
              "      <td>1.0</td>\n",
              "      <td>1.0</td>\n",
              "      <td>0.0</td>\n",
              "      <td>0.0</td>\n",
              "      <td>0.0</td>\n",
              "      <td>0.0</td>\n",
              "      <td>0.0</td>\n",
              "      <td>0.0</td>\n",
              "      <td>0.000000</td>\n",
              "      <td>1.000000</td>\n",
              "      <td>0.000000</td>\n",
              "      <td>1.000000</td>\n",
              "      <td>0.000000</td>\n",
              "      <td>1.000000</td>\n",
              "      <td>0.000000</td>\n",
              "      <td>1.000000</td>\n",
              "    </tr>\n",
              "    <tr>\n",
              "      <th>2020-01-02</th>\n",
              "      <td>1.0</td>\n",
              "      <td>2.0</td>\n",
              "      <td>4.0</td>\n",
              "      <td>1.0</td>\n",
              "      <td>0.0</td>\n",
              "      <td>0.0</td>\n",
              "      <td>0.0</td>\n",
              "      <td>0.0</td>\n",
              "      <td>0.0</td>\n",
              "      <td>0.017166</td>\n",
              "      <td>0.999853</td>\n",
              "      <td>0.034328</td>\n",
              "      <td>0.999411</td>\n",
              "      <td>0.051479</td>\n",
              "      <td>0.998674</td>\n",
              "      <td>0.068615</td>\n",
              "      <td>0.997643</td>\n",
              "    </tr>\n",
              "  </tbody>\n",
              "</table>\n",
              "</div>\n",
              "      <button class=\"colab-df-convert\" onclick=\"convertToInteractive('df-0990dfa1-661d-4d90-9cd5-85e908dc57ae')\"\n",
              "              title=\"Convert this dataframe to an interactive table.\"\n",
              "              style=\"display:none;\">\n",
              "        \n",
              "  <svg xmlns=\"http://www.w3.org/2000/svg\" height=\"24px\"viewBox=\"0 0 24 24\"\n",
              "       width=\"24px\">\n",
              "    <path d=\"M0 0h24v24H0V0z\" fill=\"none\"/>\n",
              "    <path d=\"M18.56 5.44l.94 2.06.94-2.06 2.06-.94-2.06-.94-.94-2.06-.94 2.06-2.06.94zm-11 1L8.5 8.5l.94-2.06 2.06-.94-2.06-.94L8.5 2.5l-.94 2.06-2.06.94zm10 10l.94 2.06.94-2.06 2.06-.94-2.06-.94-.94-2.06-.94 2.06-2.06.94z\"/><path d=\"M17.41 7.96l-1.37-1.37c-.4-.4-.92-.59-1.43-.59-.52 0-1.04.2-1.43.59L10.3 9.45l-7.72 7.72c-.78.78-.78 2.05 0 2.83L4 21.41c.39.39.9.59 1.41.59.51 0 1.02-.2 1.41-.59l7.78-7.78 2.81-2.81c.8-.78.8-2.07 0-2.86zM5.41 20L4 18.59l7.72-7.72 1.47 1.35L5.41 20z\"/>\n",
              "  </svg>\n",
              "      </button>\n",
              "      \n",
              "  <style>\n",
              "    .colab-df-container {\n",
              "      display:flex;\n",
              "      flex-wrap:wrap;\n",
              "      gap: 12px;\n",
              "    }\n",
              "\n",
              "    .colab-df-convert {\n",
              "      background-color: #E8F0FE;\n",
              "      border: none;\n",
              "      border-radius: 50%;\n",
              "      cursor: pointer;\n",
              "      display: none;\n",
              "      fill: #1967D2;\n",
              "      height: 32px;\n",
              "      padding: 0 0 0 0;\n",
              "      width: 32px;\n",
              "    }\n",
              "\n",
              "    .colab-df-convert:hover {\n",
              "      background-color: #E2EBFA;\n",
              "      box-shadow: 0px 1px 2px rgba(60, 64, 67, 0.3), 0px 1px 3px 1px rgba(60, 64, 67, 0.15);\n",
              "      fill: #174EA6;\n",
              "    }\n",
              "\n",
              "    [theme=dark] .colab-df-convert {\n",
              "      background-color: #3B4455;\n",
              "      fill: #D2E3FC;\n",
              "    }\n",
              "\n",
              "    [theme=dark] .colab-df-convert:hover {\n",
              "      background-color: #434B5C;\n",
              "      box-shadow: 0px 1px 3px 1px rgba(0, 0, 0, 0.15);\n",
              "      filter: drop-shadow(0px 1px 2px rgba(0, 0, 0, 0.3));\n",
              "      fill: #FFFFFF;\n",
              "    }\n",
              "  </style>\n",
              "\n",
              "      <script>\n",
              "        const buttonEl =\n",
              "          document.querySelector('#df-0990dfa1-661d-4d90-9cd5-85e908dc57ae button.colab-df-convert');\n",
              "        buttonEl.style.display =\n",
              "          google.colab.kernel.accessAllowed ? 'block' : 'none';\n",
              "\n",
              "        async function convertToInteractive(key) {\n",
              "          const element = document.querySelector('#df-0990dfa1-661d-4d90-9cd5-85e908dc57ae');\n",
              "          const dataTable =\n",
              "            await google.colab.kernel.invokeFunction('convertToInteractive',\n",
              "                                                     [key], {});\n",
              "          if (!dataTable) return;\n",
              "\n",
              "          const docLinkHtml = 'Like what you see? Visit the ' +\n",
              "            '<a target=\"_blank\" href=https://colab.research.google.com/notebooks/data_table.ipynb>data table notebook</a>'\n",
              "            + ' to learn more about interactive tables.';\n",
              "          element.innerHTML = '';\n",
              "          dataTable['output_type'] = 'display_data';\n",
              "          await google.colab.output.renderOutput(dataTable, element);\n",
              "          const docLink = document.createElement('div');\n",
              "          docLink.innerHTML = docLinkHtml;\n",
              "          element.appendChild(docLink);\n",
              "        }\n",
              "      </script>\n",
              "    </div>\n",
              "  </div>\n",
              "  "
            ]
          },
          "metadata": {},
          "execution_count": 16
        }
      ],
      "source": [
        "X.head(2)"
      ]
    },
    {
      "cell_type": "markdown",
      "id": "c6e27d5c",
      "metadata": {
        "papermill": {
          "duration": 0.026149,
          "end_time": "2022-06-14T09:44:07.374733",
          "exception": false,
          "start_time": "2022-06-14T09:44:07.348584",
          "status": "completed"
        },
        "tags": [],
        "id": "c6e27d5c"
      },
      "source": [
        "### **Seasonal model: Weekly Frequency**"
      ]
    },
    {
      "cell_type": "code",
      "execution_count": 18,
      "id": "f375aae3",
      "metadata": {
        "execution": {
          "iopub.execute_input": "2022-06-14T09:44:07.437576Z",
          "iopub.status.busy": "2022-06-14T09:44:07.436848Z",
          "iopub.status.idle": "2022-06-14T09:44:08.037757Z",
          "shell.execute_reply": "2022-06-14T09:44:08.036873Z"
        },
        "papermill": {
          "duration": 0.635235,
          "end_time": "2022-06-14T09:44:08.039931",
          "exception": false,
          "start_time": "2022-06-14T09:44:07.404696",
          "status": "completed"
        },
        "tags": [],
        "id": "f375aae3"
      },
      "outputs": [],
      "source": [
        "weather_df = weather[weather['location_key']=='AD']\n",
        "weather_df['date'] = pd.to_datetime(weather_df['date'])\n",
        "weather_df = weather.groupby('date').mean().squeeze()\n",
        "weather_df = weather_df['average_temperature_celsius']\n",
        "weather_df.index = weather_df.index.to_period(\"W\") # Index should be datetimeindex or periodindex (M for monthly frequency, D for daily frequency)\n",
        "y = weather_df.copy()\n",
        "\n",
        "#A determinstic process with a constant and quadratic time trend.\n",
        "from statsmodels.tsa.deterministic import CalendarFourier, DeterministicProcess\n",
        "#Multiple Seasonalities can be captured using additional terms. Fourier components can be used to alternatively capture seasonal patterns.\n",
        "fourier = CalendarFourier(freq=\"A\", order=4)  # 4 sin/cos pairs for \"A\"nnual seasonality\n",
        "\n",
        "\n",
        "\n",
        "dp = DeterministicProcess(\n",
        "    index= y.index,\n",
        "    constant=True,\n",
        "    order=2,#Polynomial degree 2.  2 will include both linear and quadratic terms. 0 exclude time trend terms.\n",
        "    # YOUR CODE HERE\n",
        "    seasonal=True,               # Weekly seasonality (indicators). Seasonal dummies are included by setting seasonal to True.\n",
        "    additional_terms=[fourier],  # Annual seasonality (fourier). to alternatively capture seasonal patterns \n",
        "    #drop=True,\n",
        ")\n",
        "X = dp.in_sample()  # Produce deterministic trends for in-sample fitting\n",
        "\n",
        "# Now fit the seasonal model.\n",
        "# With our feature set created, we're ready to fit the model and make predictions. \n",
        "# We'll add a 18-week forecast to see how our model extrapolates beyond the training data. \n",
        "from sklearn.linear_model import LinearRegression\n",
        "model = LinearRegression().fit(X, y)\n",
        "\n",
        "y_pred = pd.Series(model.predict(X), index=X.index)\n",
        "X_fore = dp.out_of_sample(steps=18) #Produce deterministic trends for out-of-sample forecasts\n",
        "y_fore = pd.Series(model.predict(X_fore), index=X_fore.index)\n"
      ]
    },
    {
      "cell_type": "code",
      "execution_count": 19,
      "id": "9f44a541",
      "metadata": {
        "execution": {
          "iopub.execute_input": "2022-06-14T09:44:08.093711Z",
          "iopub.status.busy": "2022-06-14T09:44:08.092910Z",
          "iopub.status.idle": "2022-06-14T09:44:08.120573Z",
          "shell.execute_reply": "2022-06-14T09:44:08.119439Z"
        },
        "papermill": {
          "duration": 0.05782,
          "end_time": "2022-06-14T09:44:08.123076",
          "exception": false,
          "start_time": "2022-06-14T09:44:08.065256",
          "status": "completed"
        },
        "tags": [],
        "colab": {
          "base_uri": "https://localhost:8080/",
          "height": 358
        },
        "id": "9f44a541",
        "outputId": "acde8b8c-78d6-4eed-915f-09c9c4097033"
      },
      "outputs": [
        {
          "output_type": "execute_result",
          "data": {
            "text/plain": [
              "                       const  trend  trend_squared  s(2,52)  s(3,52)  s(4,52)  \\\n",
              "date                                                                            \n",
              "2019-12-30/2020-01-05    1.0    1.0            1.0      0.0      0.0      0.0   \n",
              "2019-12-30/2020-01-05    1.0    2.0            4.0      1.0      0.0      0.0   \n",
              "\n",
              "                       s(5,52)  s(6,52)  s(7,52)  s(8,52)  ...  s(51,52)  \\\n",
              "date                                                       ...             \n",
              "2019-12-30/2020-01-05      0.0      0.0      0.0      0.0  ...       0.0   \n",
              "2019-12-30/2020-01-05      0.0      0.0      0.0      0.0  ...       0.0   \n",
              "\n",
              "                       s(52,52)  sin(1,freq=A-DEC)  cos(1,freq=A-DEC)  \\\n",
              "date                                                                    \n",
              "2019-12-30/2020-01-05       0.0          -0.034422           0.999407   \n",
              "2019-12-30/2020-01-05       0.0          -0.034422           0.999407   \n",
              "\n",
              "                       sin(2,freq=A-DEC)  cos(2,freq=A-DEC)  \\\n",
              "date                                                          \n",
              "2019-12-30/2020-01-05          -0.068802            0.99763   \n",
              "2019-12-30/2020-01-05          -0.068802            0.99763   \n",
              "\n",
              "                       sin(3,freq=A-DEC)  cos(3,freq=A-DEC)  \\\n",
              "date                                                          \n",
              "2019-12-30/2020-01-05          -0.103102           0.994671   \n",
              "2019-12-30/2020-01-05          -0.103102           0.994671   \n",
              "\n",
              "                       sin(4,freq=A-DEC)  cos(4,freq=A-DEC)  \n",
              "date                                                         \n",
              "2019-12-30/2020-01-05          -0.137279           0.990532  \n",
              "2019-12-30/2020-01-05          -0.137279           0.990532  \n",
              "\n",
              "[2 rows x 62 columns]"
            ],
            "text/html": [
              "\n",
              "  <div id=\"df-f3968d87-ac5d-4143-a962-db5e5f7cb145\">\n",
              "    <div class=\"colab-df-container\">\n",
              "      <div>\n",
              "<style scoped>\n",
              "    .dataframe tbody tr th:only-of-type {\n",
              "        vertical-align: middle;\n",
              "    }\n",
              "\n",
              "    .dataframe tbody tr th {\n",
              "        vertical-align: top;\n",
              "    }\n",
              "\n",
              "    .dataframe thead th {\n",
              "        text-align: right;\n",
              "    }\n",
              "</style>\n",
              "<table border=\"1\" class=\"dataframe\">\n",
              "  <thead>\n",
              "    <tr style=\"text-align: right;\">\n",
              "      <th></th>\n",
              "      <th>const</th>\n",
              "      <th>trend</th>\n",
              "      <th>trend_squared</th>\n",
              "      <th>s(2,52)</th>\n",
              "      <th>s(3,52)</th>\n",
              "      <th>s(4,52)</th>\n",
              "      <th>s(5,52)</th>\n",
              "      <th>s(6,52)</th>\n",
              "      <th>s(7,52)</th>\n",
              "      <th>s(8,52)</th>\n",
              "      <th>...</th>\n",
              "      <th>s(51,52)</th>\n",
              "      <th>s(52,52)</th>\n",
              "      <th>sin(1,freq=A-DEC)</th>\n",
              "      <th>cos(1,freq=A-DEC)</th>\n",
              "      <th>sin(2,freq=A-DEC)</th>\n",
              "      <th>cos(2,freq=A-DEC)</th>\n",
              "      <th>sin(3,freq=A-DEC)</th>\n",
              "      <th>cos(3,freq=A-DEC)</th>\n",
              "      <th>sin(4,freq=A-DEC)</th>\n",
              "      <th>cos(4,freq=A-DEC)</th>\n",
              "    </tr>\n",
              "    <tr>\n",
              "      <th>date</th>\n",
              "      <th></th>\n",
              "      <th></th>\n",
              "      <th></th>\n",
              "      <th></th>\n",
              "      <th></th>\n",
              "      <th></th>\n",
              "      <th></th>\n",
              "      <th></th>\n",
              "      <th></th>\n",
              "      <th></th>\n",
              "      <th></th>\n",
              "      <th></th>\n",
              "      <th></th>\n",
              "      <th></th>\n",
              "      <th></th>\n",
              "      <th></th>\n",
              "      <th></th>\n",
              "      <th></th>\n",
              "      <th></th>\n",
              "      <th></th>\n",
              "      <th></th>\n",
              "    </tr>\n",
              "  </thead>\n",
              "  <tbody>\n",
              "    <tr>\n",
              "      <th>2019-12-30/2020-01-05</th>\n",
              "      <td>1.0</td>\n",
              "      <td>1.0</td>\n",
              "      <td>1.0</td>\n",
              "      <td>0.0</td>\n",
              "      <td>0.0</td>\n",
              "      <td>0.0</td>\n",
              "      <td>0.0</td>\n",
              "      <td>0.0</td>\n",
              "      <td>0.0</td>\n",
              "      <td>0.0</td>\n",
              "      <td>...</td>\n",
              "      <td>0.0</td>\n",
              "      <td>0.0</td>\n",
              "      <td>-0.034422</td>\n",
              "      <td>0.999407</td>\n",
              "      <td>-0.068802</td>\n",
              "      <td>0.99763</td>\n",
              "      <td>-0.103102</td>\n",
              "      <td>0.994671</td>\n",
              "      <td>-0.137279</td>\n",
              "      <td>0.990532</td>\n",
              "    </tr>\n",
              "    <tr>\n",
              "      <th>2019-12-30/2020-01-05</th>\n",
              "      <td>1.0</td>\n",
              "      <td>2.0</td>\n",
              "      <td>4.0</td>\n",
              "      <td>1.0</td>\n",
              "      <td>0.0</td>\n",
              "      <td>0.0</td>\n",
              "      <td>0.0</td>\n",
              "      <td>0.0</td>\n",
              "      <td>0.0</td>\n",
              "      <td>0.0</td>\n",
              "      <td>...</td>\n",
              "      <td>0.0</td>\n",
              "      <td>0.0</td>\n",
              "      <td>-0.034422</td>\n",
              "      <td>0.999407</td>\n",
              "      <td>-0.068802</td>\n",
              "      <td>0.99763</td>\n",
              "      <td>-0.103102</td>\n",
              "      <td>0.994671</td>\n",
              "      <td>-0.137279</td>\n",
              "      <td>0.990532</td>\n",
              "    </tr>\n",
              "  </tbody>\n",
              "</table>\n",
              "<p>2 rows × 62 columns</p>\n",
              "</div>\n",
              "      <button class=\"colab-df-convert\" onclick=\"convertToInteractive('df-f3968d87-ac5d-4143-a962-db5e5f7cb145')\"\n",
              "              title=\"Convert this dataframe to an interactive table.\"\n",
              "              style=\"display:none;\">\n",
              "        \n",
              "  <svg xmlns=\"http://www.w3.org/2000/svg\" height=\"24px\"viewBox=\"0 0 24 24\"\n",
              "       width=\"24px\">\n",
              "    <path d=\"M0 0h24v24H0V0z\" fill=\"none\"/>\n",
              "    <path d=\"M18.56 5.44l.94 2.06.94-2.06 2.06-.94-2.06-.94-.94-2.06-.94 2.06-2.06.94zm-11 1L8.5 8.5l.94-2.06 2.06-.94-2.06-.94L8.5 2.5l-.94 2.06-2.06.94zm10 10l.94 2.06.94-2.06 2.06-.94-2.06-.94-.94-2.06-.94 2.06-2.06.94z\"/><path d=\"M17.41 7.96l-1.37-1.37c-.4-.4-.92-.59-1.43-.59-.52 0-1.04.2-1.43.59L10.3 9.45l-7.72 7.72c-.78.78-.78 2.05 0 2.83L4 21.41c.39.39.9.59 1.41.59.51 0 1.02-.2 1.41-.59l7.78-7.78 2.81-2.81c.8-.78.8-2.07 0-2.86zM5.41 20L4 18.59l7.72-7.72 1.47 1.35L5.41 20z\"/>\n",
              "  </svg>\n",
              "      </button>\n",
              "      \n",
              "  <style>\n",
              "    .colab-df-container {\n",
              "      display:flex;\n",
              "      flex-wrap:wrap;\n",
              "      gap: 12px;\n",
              "    }\n",
              "\n",
              "    .colab-df-convert {\n",
              "      background-color: #E8F0FE;\n",
              "      border: none;\n",
              "      border-radius: 50%;\n",
              "      cursor: pointer;\n",
              "      display: none;\n",
              "      fill: #1967D2;\n",
              "      height: 32px;\n",
              "      padding: 0 0 0 0;\n",
              "      width: 32px;\n",
              "    }\n",
              "\n",
              "    .colab-df-convert:hover {\n",
              "      background-color: #E2EBFA;\n",
              "      box-shadow: 0px 1px 2px rgba(60, 64, 67, 0.3), 0px 1px 3px 1px rgba(60, 64, 67, 0.15);\n",
              "      fill: #174EA6;\n",
              "    }\n",
              "\n",
              "    [theme=dark] .colab-df-convert {\n",
              "      background-color: #3B4455;\n",
              "      fill: #D2E3FC;\n",
              "    }\n",
              "\n",
              "    [theme=dark] .colab-df-convert:hover {\n",
              "      background-color: #434B5C;\n",
              "      box-shadow: 0px 1px 3px 1px rgba(0, 0, 0, 0.15);\n",
              "      filter: drop-shadow(0px 1px 2px rgba(0, 0, 0, 0.3));\n",
              "      fill: #FFFFFF;\n",
              "    }\n",
              "  </style>\n",
              "\n",
              "      <script>\n",
              "        const buttonEl =\n",
              "          document.querySelector('#df-f3968d87-ac5d-4143-a962-db5e5f7cb145 button.colab-df-convert');\n",
              "        buttonEl.style.display =\n",
              "          google.colab.kernel.accessAllowed ? 'block' : 'none';\n",
              "\n",
              "        async function convertToInteractive(key) {\n",
              "          const element = document.querySelector('#df-f3968d87-ac5d-4143-a962-db5e5f7cb145');\n",
              "          const dataTable =\n",
              "            await google.colab.kernel.invokeFunction('convertToInteractive',\n",
              "                                                     [key], {});\n",
              "          if (!dataTable) return;\n",
              "\n",
              "          const docLinkHtml = 'Like what you see? Visit the ' +\n",
              "            '<a target=\"_blank\" href=https://colab.research.google.com/notebooks/data_table.ipynb>data table notebook</a>'\n",
              "            + ' to learn more about interactive tables.';\n",
              "          element.innerHTML = '';\n",
              "          dataTable['output_type'] = 'display_data';\n",
              "          await google.colab.output.renderOutput(dataTable, element);\n",
              "          const docLink = document.createElement('div');\n",
              "          docLink.innerHTML = docLinkHtml;\n",
              "          element.appendChild(docLink);\n",
              "        }\n",
              "      </script>\n",
              "    </div>\n",
              "  </div>\n",
              "  "
            ]
          },
          "metadata": {},
          "execution_count": 19
        }
      ],
      "source": [
        "X.head(2)"
      ]
    },
    {
      "cell_type": "markdown",
      "id": "a9a5c7b8",
      "metadata": {
        "papermill": {
          "duration": 0.025978,
          "end_time": "2022-06-14T09:44:08.174364",
          "exception": false,
          "start_time": "2022-06-14T09:44:08.148386",
          "status": "completed"
        },
        "tags": [],
        "id": "a9a5c7b8"
      },
      "source": [
        "### **Seasonal model: Monthly Frequency**"
      ]
    },
    {
      "cell_type": "code",
      "execution_count": 20,
      "id": "ce0d4a80",
      "metadata": {
        "execution": {
          "iopub.execute_input": "2022-06-14T09:44:08.230709Z",
          "iopub.status.busy": "2022-06-14T09:44:08.229468Z",
          "iopub.status.idle": "2022-06-14T09:44:09.001959Z",
          "shell.execute_reply": "2022-06-14T09:44:09.000784Z"
        },
        "papermill": {
          "duration": 0.803648,
          "end_time": "2022-06-14T09:44:09.004431",
          "exception": false,
          "start_time": "2022-06-14T09:44:08.200783",
          "status": "completed"
        },
        "tags": [],
        "id": "ce0d4a80"
      },
      "outputs": [],
      "source": [
        "weather_df = weather[weather['location_key']=='AD']\n",
        "weather_df['date'] = pd.to_datetime(weather_df['date'])\n",
        "weather_df = weather.groupby('date').mean().squeeze()\n",
        "weather_df = weather_df['average_temperature_celsius']\n",
        "weather_df.index = weather_df.index.to_period(\"M\") # Index should be datetimeindex or periodindex (M for monthly frequency, D for daily frequency)\n",
        "y = weather_df.copy()\n",
        "\n",
        "#A determinstic process with a constant and quadratic time trend.\n",
        "from statsmodels.tsa.deterministic import CalendarFourier, DeterministicProcess\n",
        "#Multiple Seasonalities can be captured using additional terms. Fourier components can be used to alternatively capture seasonal patterns.\n",
        "fourier = CalendarFourier(freq=\"A\", order=4)  # 4 sin/cos pairs for \"A\"nnual seasonality\n",
        "\n",
        "\n",
        "\n",
        "dp = DeterministicProcess(\n",
        "    index= y.index,\n",
        "    constant=True,\n",
        "    order=2,#Polynomial degree 2.  2 will include both linear and quadratic terms. 0 exclude time trend terms.\n",
        "    # YOUR CODE HERE\n",
        "    seasonal=True,               # Monthly seasonality (indicators). Seasonal dummies are included by setting seasonal to True.\n",
        "    additional_terms=[fourier],  # Annual seasonality (fourier). to alternatively capture seasonal patterns \n",
        "    #drop=True,\n",
        ")\n",
        "X = dp.in_sample()  # Produce deterministic trends for in-sample fitting\n",
        "\n",
        "# Now fit the seasonal model.\n",
        "# With our feature set created, we're ready to fit the model and make predictions. \n",
        "# We'll add a 16-month forecast to see how our model extrapolates beyond the training data. \n",
        "from sklearn.linear_model import LinearRegression\n",
        "model = LinearRegression().fit(X, y)\n",
        "\n",
        "y_pred = pd.Series(model.predict(X), index=X.index)\n",
        "X_fore = dp.out_of_sample(steps=18) #Produce deterministic trends for out-of-sample forecasts\n",
        "y_fore = pd.Series(model.predict(X_fore), index=X_fore.index)\n"
      ]
    },
    {
      "cell_type": "code",
      "execution_count": 21,
      "id": "3472b37d",
      "metadata": {
        "execution": {
          "iopub.execute_input": "2022-06-14T09:44:09.058879Z",
          "iopub.status.busy": "2022-06-14T09:44:09.058460Z",
          "iopub.status.idle": "2022-06-14T09:44:09.086473Z",
          "shell.execute_reply": "2022-06-14T09:44:09.085523Z"
        },
        "papermill": {
          "duration": 0.057756,
          "end_time": "2022-06-14T09:44:09.088551",
          "exception": false,
          "start_time": "2022-06-14T09:44:09.030795",
          "status": "completed"
        },
        "tags": [],
        "colab": {
          "base_uri": "https://localhost:8080/",
          "height": 289
        },
        "id": "3472b37d",
        "outputId": "193142f4-7d09-4a73-cb67-15a56a9691d3"
      },
      "outputs": [
        {
          "output_type": "execute_result",
          "data": {
            "text/plain": [
              "         const  trend  trend_squared  s(2,12)  s(3,12)  s(4,12)  s(5,12)  \\\n",
              "date                                                                       \n",
              "2020-01    1.0    1.0            1.0      0.0      0.0      0.0      0.0   \n",
              "2020-01    1.0    2.0            4.0      1.0      0.0      0.0      0.0   \n",
              "\n",
              "         s(6,12)  s(7,12)  s(8,12)  ...  s(11,12)  s(12,12)  \\\n",
              "date                                ...                       \n",
              "2020-01      0.0      0.0      0.0  ...       0.0       0.0   \n",
              "2020-01      0.0      0.0      0.0  ...       0.0       0.0   \n",
              "\n",
              "         sin(1,freq=A-DEC)  cos(1,freq=A-DEC)  sin(2,freq=A-DEC)  \\\n",
              "date                                                               \n",
              "2020-01                0.0                1.0                0.0   \n",
              "2020-01                0.0                1.0                0.0   \n",
              "\n",
              "         cos(2,freq=A-DEC)  sin(3,freq=A-DEC)  cos(3,freq=A-DEC)  \\\n",
              "date                                                               \n",
              "2020-01                1.0                0.0                1.0   \n",
              "2020-01                1.0                0.0                1.0   \n",
              "\n",
              "         sin(4,freq=A-DEC)  cos(4,freq=A-DEC)  \n",
              "date                                           \n",
              "2020-01                0.0                1.0  \n",
              "2020-01                0.0                1.0  \n",
              "\n",
              "[2 rows x 22 columns]"
            ],
            "text/html": [
              "\n",
              "  <div id=\"df-c5cc2a0d-eff3-43a7-ab48-c94e8b3a6a67\">\n",
              "    <div class=\"colab-df-container\">\n",
              "      <div>\n",
              "<style scoped>\n",
              "    .dataframe tbody tr th:only-of-type {\n",
              "        vertical-align: middle;\n",
              "    }\n",
              "\n",
              "    .dataframe tbody tr th {\n",
              "        vertical-align: top;\n",
              "    }\n",
              "\n",
              "    .dataframe thead th {\n",
              "        text-align: right;\n",
              "    }\n",
              "</style>\n",
              "<table border=\"1\" class=\"dataframe\">\n",
              "  <thead>\n",
              "    <tr style=\"text-align: right;\">\n",
              "      <th></th>\n",
              "      <th>const</th>\n",
              "      <th>trend</th>\n",
              "      <th>trend_squared</th>\n",
              "      <th>s(2,12)</th>\n",
              "      <th>s(3,12)</th>\n",
              "      <th>s(4,12)</th>\n",
              "      <th>s(5,12)</th>\n",
              "      <th>s(6,12)</th>\n",
              "      <th>s(7,12)</th>\n",
              "      <th>s(8,12)</th>\n",
              "      <th>...</th>\n",
              "      <th>s(11,12)</th>\n",
              "      <th>s(12,12)</th>\n",
              "      <th>sin(1,freq=A-DEC)</th>\n",
              "      <th>cos(1,freq=A-DEC)</th>\n",
              "      <th>sin(2,freq=A-DEC)</th>\n",
              "      <th>cos(2,freq=A-DEC)</th>\n",
              "      <th>sin(3,freq=A-DEC)</th>\n",
              "      <th>cos(3,freq=A-DEC)</th>\n",
              "      <th>sin(4,freq=A-DEC)</th>\n",
              "      <th>cos(4,freq=A-DEC)</th>\n",
              "    </tr>\n",
              "    <tr>\n",
              "      <th>date</th>\n",
              "      <th></th>\n",
              "      <th></th>\n",
              "      <th></th>\n",
              "      <th></th>\n",
              "      <th></th>\n",
              "      <th></th>\n",
              "      <th></th>\n",
              "      <th></th>\n",
              "      <th></th>\n",
              "      <th></th>\n",
              "      <th></th>\n",
              "      <th></th>\n",
              "      <th></th>\n",
              "      <th></th>\n",
              "      <th></th>\n",
              "      <th></th>\n",
              "      <th></th>\n",
              "      <th></th>\n",
              "      <th></th>\n",
              "      <th></th>\n",
              "      <th></th>\n",
              "    </tr>\n",
              "  </thead>\n",
              "  <tbody>\n",
              "    <tr>\n",
              "      <th>2020-01</th>\n",
              "      <td>1.0</td>\n",
              "      <td>1.0</td>\n",
              "      <td>1.0</td>\n",
              "      <td>0.0</td>\n",
              "      <td>0.0</td>\n",
              "      <td>0.0</td>\n",
              "      <td>0.0</td>\n",
              "      <td>0.0</td>\n",
              "      <td>0.0</td>\n",
              "      <td>0.0</td>\n",
              "      <td>...</td>\n",
              "      <td>0.0</td>\n",
              "      <td>0.0</td>\n",
              "      <td>0.0</td>\n",
              "      <td>1.0</td>\n",
              "      <td>0.0</td>\n",
              "      <td>1.0</td>\n",
              "      <td>0.0</td>\n",
              "      <td>1.0</td>\n",
              "      <td>0.0</td>\n",
              "      <td>1.0</td>\n",
              "    </tr>\n",
              "    <tr>\n",
              "      <th>2020-01</th>\n",
              "      <td>1.0</td>\n",
              "      <td>2.0</td>\n",
              "      <td>4.0</td>\n",
              "      <td>1.0</td>\n",
              "      <td>0.0</td>\n",
              "      <td>0.0</td>\n",
              "      <td>0.0</td>\n",
              "      <td>0.0</td>\n",
              "      <td>0.0</td>\n",
              "      <td>0.0</td>\n",
              "      <td>...</td>\n",
              "      <td>0.0</td>\n",
              "      <td>0.0</td>\n",
              "      <td>0.0</td>\n",
              "      <td>1.0</td>\n",
              "      <td>0.0</td>\n",
              "      <td>1.0</td>\n",
              "      <td>0.0</td>\n",
              "      <td>1.0</td>\n",
              "      <td>0.0</td>\n",
              "      <td>1.0</td>\n",
              "    </tr>\n",
              "  </tbody>\n",
              "</table>\n",
              "<p>2 rows × 22 columns</p>\n",
              "</div>\n",
              "      <button class=\"colab-df-convert\" onclick=\"convertToInteractive('df-c5cc2a0d-eff3-43a7-ab48-c94e8b3a6a67')\"\n",
              "              title=\"Convert this dataframe to an interactive table.\"\n",
              "              style=\"display:none;\">\n",
              "        \n",
              "  <svg xmlns=\"http://www.w3.org/2000/svg\" height=\"24px\"viewBox=\"0 0 24 24\"\n",
              "       width=\"24px\">\n",
              "    <path d=\"M0 0h24v24H0V0z\" fill=\"none\"/>\n",
              "    <path d=\"M18.56 5.44l.94 2.06.94-2.06 2.06-.94-2.06-.94-.94-2.06-.94 2.06-2.06.94zm-11 1L8.5 8.5l.94-2.06 2.06-.94-2.06-.94L8.5 2.5l-.94 2.06-2.06.94zm10 10l.94 2.06.94-2.06 2.06-.94-2.06-.94-.94-2.06-.94 2.06-2.06.94z\"/><path d=\"M17.41 7.96l-1.37-1.37c-.4-.4-.92-.59-1.43-.59-.52 0-1.04.2-1.43.59L10.3 9.45l-7.72 7.72c-.78.78-.78 2.05 0 2.83L4 21.41c.39.39.9.59 1.41.59.51 0 1.02-.2 1.41-.59l7.78-7.78 2.81-2.81c.8-.78.8-2.07 0-2.86zM5.41 20L4 18.59l7.72-7.72 1.47 1.35L5.41 20z\"/>\n",
              "  </svg>\n",
              "      </button>\n",
              "      \n",
              "  <style>\n",
              "    .colab-df-container {\n",
              "      display:flex;\n",
              "      flex-wrap:wrap;\n",
              "      gap: 12px;\n",
              "    }\n",
              "\n",
              "    .colab-df-convert {\n",
              "      background-color: #E8F0FE;\n",
              "      border: none;\n",
              "      border-radius: 50%;\n",
              "      cursor: pointer;\n",
              "      display: none;\n",
              "      fill: #1967D2;\n",
              "      height: 32px;\n",
              "      padding: 0 0 0 0;\n",
              "      width: 32px;\n",
              "    }\n",
              "\n",
              "    .colab-df-convert:hover {\n",
              "      background-color: #E2EBFA;\n",
              "      box-shadow: 0px 1px 2px rgba(60, 64, 67, 0.3), 0px 1px 3px 1px rgba(60, 64, 67, 0.15);\n",
              "      fill: #174EA6;\n",
              "    }\n",
              "\n",
              "    [theme=dark] .colab-df-convert {\n",
              "      background-color: #3B4455;\n",
              "      fill: #D2E3FC;\n",
              "    }\n",
              "\n",
              "    [theme=dark] .colab-df-convert:hover {\n",
              "      background-color: #434B5C;\n",
              "      box-shadow: 0px 1px 3px 1px rgba(0, 0, 0, 0.15);\n",
              "      filter: drop-shadow(0px 1px 2px rgba(0, 0, 0, 0.3));\n",
              "      fill: #FFFFFF;\n",
              "    }\n",
              "  </style>\n",
              "\n",
              "      <script>\n",
              "        const buttonEl =\n",
              "          document.querySelector('#df-c5cc2a0d-eff3-43a7-ab48-c94e8b3a6a67 button.colab-df-convert');\n",
              "        buttonEl.style.display =\n",
              "          google.colab.kernel.accessAllowed ? 'block' : 'none';\n",
              "\n",
              "        async function convertToInteractive(key) {\n",
              "          const element = document.querySelector('#df-c5cc2a0d-eff3-43a7-ab48-c94e8b3a6a67');\n",
              "          const dataTable =\n",
              "            await google.colab.kernel.invokeFunction('convertToInteractive',\n",
              "                                                     [key], {});\n",
              "          if (!dataTable) return;\n",
              "\n",
              "          const docLinkHtml = 'Like what you see? Visit the ' +\n",
              "            '<a target=\"_blank\" href=https://colab.research.google.com/notebooks/data_table.ipynb>data table notebook</a>'\n",
              "            + ' to learn more about interactive tables.';\n",
              "          element.innerHTML = '';\n",
              "          dataTable['output_type'] = 'display_data';\n",
              "          await google.colab.output.renderOutput(dataTable, element);\n",
              "          const docLink = document.createElement('div');\n",
              "          docLink.innerHTML = docLinkHtml;\n",
              "          element.appendChild(docLink);\n",
              "        }\n",
              "      </script>\n",
              "    </div>\n",
              "  </div>\n",
              "  "
            ]
          },
          "metadata": {},
          "execution_count": 21
        }
      ],
      "source": [
        "X.head(2)"
      ]
    },
    {
      "cell_type": "code",
      "execution_count": 22,
      "id": "851710f4",
      "metadata": {
        "execution": {
          "iopub.execute_input": "2022-06-14T09:44:09.244673Z",
          "iopub.status.busy": "2022-06-14T09:44:09.243963Z",
          "iopub.status.idle": "2022-06-14T09:44:09.511921Z",
          "shell.execute_reply": "2022-06-14T09:44:09.510971Z"
        },
        "papermill": {
          "duration": 0.297394,
          "end_time": "2022-06-14T09:44:09.514264",
          "exception": false,
          "start_time": "2022-06-14T09:44:09.216870",
          "status": "completed"
        },
        "tags": [],
        "colab": {
          "base_uri": "https://localhost:8080/",
          "height": 283
        },
        "id": "851710f4",
        "outputId": "e448edea-c3a5-4aa5-8ba8-c2aabefbc8ff"
      },
      "outputs": [
        {
          "output_type": "display_data",
          "data": {
            "text/plain": [
              "<Figure size 432x288 with 1 Axes>"
            ],
            "image/png": "[encoded data removed]"
          },
          "metadata": {
            "needs_background": "light"
          }
        }
      ],
      "source": [
        "from pandas.plotting import autocorrelation_plot\n",
        "data = weather['average_temperature_celsius']\n",
        "autocorrelation_plot(data)\n",
        "plt.show();"
      ]
    },
    {
      "cell_type": "code",
      "execution_count": 23,
      "id": "243cf41c",
      "metadata": {
        "execution": {
          "iopub.execute_input": "2022-06-14T09:44:09.569174Z",
          "iopub.status.busy": "2022-06-14T09:44:09.568455Z",
          "iopub.status.idle": "2022-06-14T09:44:09.604682Z",
          "shell.execute_reply": "2022-06-14T09:44:09.602948Z"
        },
        "papermill": {
          "duration": 0.066823,
          "end_time": "2022-06-14T09:44:09.607419",
          "exception": false,
          "start_time": "2022-06-14T09:44:09.540596",
          "status": "completed"
        },
        "tags": [],
        "colab": {
          "base_uri": "https://localhost:8080/"
        },
        "id": "243cf41c",
        "outputId": "e770cfb2-2f45-42b9-c87e-b9947d6bffe4"
      },
      "outputs": [
        {
          "output_type": "stream",
          "name": "stdout",
          "text": [
            "929    25.09295\n",
            "dtype: float64 0       4.236111\n",
            "1       3.875000\n",
            "2       4.763889\n",
            "3       4.555556\n",
            "4       4.763889\n",
            "         ...    \n",
            "924    28.753968\n",
            "925    29.214286\n",
            "926    29.619048\n",
            "927    26.841270\n",
            "928    25.531746\n",
            "Name: average_temperature_celsius, Length: 929, dtype: float64\n"
          ]
        }
      ],
      "source": [
        "from statsmodels.tsa.ar_model import AutoReg\n",
        "data = weather['average_temperature_celsius']\n",
        "model = AutoReg(data, lags=1)\n",
        "model_fit = model.fit()\n",
        "# make prediction\n",
        "yhat = model_fit.predict(len(weather), len(data))\n",
        "print(yhat, data)"
      ]
    },
    {
      "cell_type": "code",
      "execution_count": 24,
      "id": "2f222cf2",
      "metadata": {
        "execution": {
          "iopub.execute_input": "2022-06-14T09:44:09.663473Z",
          "iopub.status.busy": "2022-06-14T09:44:09.662544Z",
          "iopub.status.idle": "2022-06-14T09:44:10.161177Z",
          "shell.execute_reply": "2022-06-14T09:44:10.159867Z"
        },
        "papermill": {
          "duration": 0.529226,
          "end_time": "2022-06-14T09:44:10.163908",
          "exception": false,
          "start_time": "2022-06-14T09:44:09.634682",
          "status": "completed"
        },
        "tags": [],
        "colab": {
          "base_uri": "https://localhost:8080/",
          "height": 1000
        },
        "id": "2f222cf2",
        "outputId": "e4bee4d9-aca1-4bc3-c4a7-794e2f93fd58"
      },
      "outputs": [
        {
          "output_type": "stream",
          "name": "stdout",
          "text": [
            "                                 AutoReg Model Results                                 \n",
            "=======================================================================================\n",
            "Dep. Variable:     average_temperature_celsius   No. Observations:                  929\n",
            "Model:                              AutoReg(1)   Log Likelihood               -1872.997\n",
            "Method:                        Conditional MLE   S.D. of innovations              1.821\n",
            "Date:                         Sun, 24 Jul 2022   AIC                           3751.994\n",
            "Time:                                 10:15:04   BIC                           3766.493\n",
            "Sample:                                      1   HQIC                          3757.525\n",
            "                                           929                                         \n",
            "==================================================================================================\n",
            "                                     coef    std err          z      P>|z|      [0.025      0.975]\n",
            "--------------------------------------------------------------------------------------------------\n",
            "const                              0.5333      0.135      3.938      0.000       0.268       0.799\n",
            "average_temperature_celsius.L1     0.9619      0.009    106.123      0.000       0.944       0.980\n",
            "                                    Roots                                    \n",
            "=============================================================================\n",
            "                  Real          Imaginary           Modulus         Frequency\n",
            "-----------------------------------------------------------------------------\n",
            "AR.1            1.0396           +0.0000j            1.0396            0.0000\n",
            "-----------------------------------------------------------------------------\n"
          ]
        },
        {
          "output_type": "display_data",
          "data": {
            "text/plain": [
              "<Figure size 432x288 with 1 Axes>"
            ],
            "image/png": "[encoded data removed]"
          },
          "metadata": {
            "needs_background": "light"
          }
        },
        {
          "output_type": "display_data",
          "data": {
            "text/plain": [
              "<Figure size 432x288 with 1 Axes>"
            ],
            "image/png": "[encoded data removed]"
          },
          "metadata": {
            "needs_background": "light"
          }
        },
        {
          "output_type": "stream",
          "name": "stdout",
          "text": [
            "                  0\n",
            "count  9.280000e+02\n",
            "mean   2.450147e-16\n",
            "std    1.821966e+00\n",
            "min   -8.087593e+00\n",
            "25%   -1.078449e+00\n",
            "50%    1.145317e-01\n",
            "75%    1.233182e+00\n",
            "max    5.837743e+00\n"
          ]
        }
      ],
      "source": [
        "# summary of fit model\n",
        "print(model_fit.summary())\n",
        "# line plot of residuals\n",
        "residuals = pd.DataFrame(model_fit.resid)\n",
        "residuals.plot()\n",
        "plt.show()\n",
        "# density plot of residuals\n",
        "residuals.plot(kind='kde')\n",
        "plt.show()\n",
        "# summary stats of residuals\n",
        "print(residuals.describe())"
      ]
    },
    {
      "cell_type": "code",
      "execution_count": 25,
      "id": "d42d94cf",
      "metadata": {
        "execution": {
          "iopub.execute_input": "2022-06-14T09:44:10.280730Z",
          "iopub.status.busy": "2022-06-14T09:44:10.280035Z",
          "iopub.status.idle": "2022-06-14T09:44:10.605156Z",
          "shell.execute_reply": "2022-06-14T09:44:10.604034Z"
        },
        "papermill": {
          "duration": 0.358406,
          "end_time": "2022-06-14T09:44:10.608992",
          "exception": false,
          "start_time": "2022-06-14T09:44:10.250586",
          "status": "completed"
        },
        "tags": [],
        "colab": {
          "base_uri": "https://localhost:8080/"
        },
        "id": "d42d94cf",
        "outputId": "1573ece7-3236-41cc-cc98-b8a53eaffc2a"
      },
      "outputs": [
        {
          "output_type": "stream",
          "name": "stdout",
          "text": [
            "929    19.432603\n",
            "dtype: float64 0       4.236111\n",
            "1       3.875000\n",
            "2       4.763889\n",
            "3       4.555556\n",
            "4       4.763889\n",
            "         ...    \n",
            "924    28.753968\n",
            "925    29.214286\n",
            "926    29.619048\n",
            "927    26.841270\n",
            "928    25.531746\n",
            "Name: average_temperature_celsius, Length: 929, dtype: float64\n"
          ]
        }
      ],
      "source": [
        "from statsmodels.tsa.arima.model import ARIMA\n",
        "model = ARIMA(data, order=(0, 0, 1))\n",
        "model_fit = model.fit()\n",
        "# make prediction\n",
        "yhat = model_fit.predict(len(data), len(data))\n",
        "print(yhat, data)"
      ]
    },
    {
      "cell_type": "code",
      "execution_count": 26,
      "id": "326e0bf4",
      "metadata": {
        "execution": {
          "iopub.execute_input": "2022-06-14T09:44:10.676213Z",
          "iopub.status.busy": "2022-06-14T09:44:10.675595Z",
          "iopub.status.idle": "2022-06-14T09:44:11.243705Z",
          "shell.execute_reply": "2022-06-14T09:44:11.242512Z"
        },
        "papermill": {
          "duration": 0.602867,
          "end_time": "2022-06-14T09:44:11.246571",
          "exception": false,
          "start_time": "2022-06-14T09:44:10.643704",
          "status": "completed"
        },
        "tags": [],
        "colab": {
          "base_uri": "https://localhost:8080/",
          "height": 1000
        },
        "id": "326e0bf4",
        "outputId": "fed67466-b3a9-4fb1-fbc3-6f8b30b6a904"
      },
      "outputs": [
        {
          "output_type": "stream",
          "name": "stdout",
          "text": [
            "                                    SARIMAX Results                                    \n",
            "=======================================================================================\n",
            "Dep. Variable:     average_temperature_celsius   No. Observations:                  929\n",
            "Model:                          ARIMA(0, 0, 1)   Log Likelihood               -2571.624\n",
            "Date:                         Sun, 24 Jul 2022   AIC                           5149.249\n",
            "Time:                                 10:15:05   BIC                           5163.751\n",
            "Sample:                                      0   HQIC                          5154.780\n",
            "                                         - 929                                         \n",
            "Covariance Type:                           opg                                         \n",
            "==============================================================================\n",
            "                 coef    std err          z      P>|z|      [0.025      0.975]\n",
            "------------------------------------------------------------------------------\n",
            "const         13.4188      0.238     56.353      0.000      12.952      13.886\n",
            "ma.L1          0.8615      0.019     46.115      0.000       0.825       0.898\n",
            "sigma2        14.8350      0.873     16.989      0.000      13.124      16.546\n",
            "===================================================================================\n",
            "Ljung-Box (L1) (Q):                 450.94   Jarque-Bera (JB):                23.39\n",
            "Prob(Q):                              0.00   Prob(JB):                         0.00\n",
            "Heteroskedasticity (H):               1.28   Skew:                             0.11\n",
            "Prob(H) (two-sided):                  0.03   Kurtosis:                         2.25\n",
            "===================================================================================\n",
            "\n",
            "Warnings:\n",
            "[1] Covariance matrix calculated using the outer product of gradients (complex-step).\n"
          ]
        },
        {
          "output_type": "display_data",
          "data": {
            "text/plain": [
              "<Figure size 432x288 with 1 Axes>"
            ],
            "image/png": "[encoded data removed]"
          },
          "metadata": {
            "needs_background": "light"
          }
        },
        {
          "output_type": "display_data",
          "data": {
            "text/plain": [
              "<Figure size 432x288 with 1 Axes>"
            ],
            "image/png": "[encoded data removed]"
          },
          "metadata": {
            "needs_background": "light"
          }
        },
        {
          "output_type": "stream",
          "name": "stdout",
          "text": [
            "                0\n",
            "count  929.000000\n",
            "mean    -0.001426\n",
            "std      3.861284\n",
            "min     -9.182735\n",
            "25%     -2.913777\n",
            "50%     -0.207835\n",
            "75%      3.009047\n",
            "max      9.033313\n"
          ]
        }
      ],
      "source": [
        "# summary of fit model\n",
        "print(model_fit.summary())\n",
        "# line plot of residuals\n",
        "residuals = pd.DataFrame(model_fit.resid)\n",
        "residuals.plot()\n",
        "plt.show()\n",
        "# density plot of residuals\n",
        "residuals.plot(kind='kde')\n",
        "plt.show()\n",
        "# summary stats of residuals\n",
        "print(residuals.describe())"
      ]
    },
    {
      "cell_type": "code",
      "execution_count": 27,
      "id": "349b2346",
      "metadata": {
        "execution": {
          "iopub.execute_input": "2022-06-14T09:44:11.419055Z",
          "iopub.status.busy": "2022-06-14T09:44:11.418583Z",
          "iopub.status.idle": "2022-06-14T09:44:11.724821Z",
          "shell.execute_reply": "2022-06-14T09:44:11.723995Z"
        },
        "papermill": {
          "duration": 0.343514,
          "end_time": "2022-06-14T09:44:11.728529",
          "exception": false,
          "start_time": "2022-06-14T09:44:11.385015",
          "status": "completed"
        },
        "tags": [],
        "colab": {
          "base_uri": "https://localhost:8080/"
        },
        "id": "349b2346",
        "outputId": "907f509a-538a-47ac-aa3b-4e3e582e6272"
      },
      "outputs": [
        {
          "output_type": "stream",
          "name": "stdout",
          "text": [
            "929    25.126371\n",
            "dtype: float64 0       4.236111\n",
            "1       3.875000\n",
            "2       4.763889\n",
            "3       4.555556\n",
            "4       4.763889\n",
            "         ...    \n",
            "924    28.753968\n",
            "925    29.214286\n",
            "926    29.619048\n",
            "927    26.841270\n",
            "928    25.531746\n",
            "Name: average_temperature_celsius, Length: 929, dtype: float64\n"
          ]
        }
      ],
      "source": [
        "from statsmodels.tsa.arima.model import ARIMA\n",
        "# fit model\n",
        "model = ARIMA(data, order=(2, 0, 1))\n",
        "model_fit = model.fit()\n",
        "# make prediction\n",
        "yhat = model_fit.predict(len(data), len(data))\n",
        "print(yhat, data)"
      ]
    },
    {
      "cell_type": "code",
      "execution_count": 28,
      "id": "f951f8a5",
      "metadata": {
        "execution": {
          "iopub.execute_input": "2022-06-14T09:44:11.802179Z",
          "iopub.status.busy": "2022-06-14T09:44:11.801734Z",
          "iopub.status.idle": "2022-06-14T09:44:12.338593Z",
          "shell.execute_reply": "2022-06-14T09:44:12.337574Z"
        },
        "papermill": {
          "duration": 0.572214,
          "end_time": "2022-06-14T09:44:12.341052",
          "exception": false,
          "start_time": "2022-06-14T09:44:11.768838",
          "status": "completed"
        },
        "tags": [],
        "colab": {
          "base_uri": "https://localhost:8080/",
          "height": 1000
        },
        "id": "f951f8a5",
        "outputId": "bb105b99-c865-40f3-e592-1a7c5145bc29"
      },
      "outputs": [
        {
          "output_type": "stream",
          "name": "stdout",
          "text": [
            "                                    SARIMAX Results                                    \n",
            "=======================================================================================\n",
            "Dep. Variable:     average_temperature_celsius   No. Observations:                  929\n",
            "Model:                          ARIMA(2, 0, 1)   Log Likelihood               -1867.503\n",
            "Date:                         Sun, 24 Jul 2022   AIC                           3745.007\n",
            "Time:                                 10:15:06   BIC                           3769.177\n",
            "Sample:                                      0   HQIC                          3754.226\n",
            "                                         - 929                                         \n",
            "Covariance Type:                           opg                                         \n",
            "==============================================================================\n",
            "                 coef    std err          z      P>|z|      [0.025      0.975]\n",
            "------------------------------------------------------------------------------\n",
            "const         13.4880      1.464      9.215      0.000      10.619      16.357\n",
            "ar.L1          0.4388      0.150      2.926      0.003       0.145       0.733\n",
            "ar.L2          0.4962      0.145      3.411      0.001       0.211       0.781\n",
            "ma.L1          0.6414      0.135      4.746      0.000       0.377       0.906\n",
            "sigma2         3.2534      0.140     23.213      0.000       2.979       3.528\n",
            "===================================================================================\n",
            "Ljung-Box (L1) (Q):                   0.84   Jarque-Bera (JB):                21.93\n",
            "Prob(Q):                              0.36   Prob(JB):                         0.00\n",
            "Heteroskedasticity (H):               1.14   Skew:                            -0.28\n",
            "Prob(H) (two-sided):                  0.24   Kurtosis:                         3.49\n",
            "===================================================================================\n",
            "\n",
            "Warnings:\n",
            "[1] Covariance matrix calculated using the outer product of gradients (complex-step).\n"
          ]
        },
        {
          "output_type": "display_data",
          "data": {
            "text/plain": [
              "<Figure size 432x288 with 1 Axes>"
            ],
            "image/png": "[encoded data removed]"
          },
          "metadata": {
            "needs_background": "light"
          }
        },
        {
          "output_type": "display_data",
          "data": {
            "text/plain": [
              "<Figure size 432x288 with 1 Axes>"
            ],
            "image/png": "[encoded data removed]"
          },
          "metadata": {
            "needs_background": "light"
          }
        },
        {
          "output_type": "stream",
          "name": "stdout",
          "text": [
            "                0\n",
            "count  929.000000\n",
            "mean     0.008014\n",
            "std      1.828251\n",
            "min     -9.251877\n",
            "25%     -1.072780\n",
            "50%      0.117178\n",
            "75%      1.221528\n",
            "max      5.721507\n"
          ]
        }
      ],
      "source": [
        "# summary of fit model\n",
        "print(model_fit.summary())\n",
        "# line plot of residuals\n",
        "residuals = pd.DataFrame(model_fit.resid)\n",
        "residuals.plot()\n",
        "plt.show()\n",
        "# density plot of residuals\n",
        "residuals.plot(kind='kde')\n",
        "plt.show()\n",
        "# summary stats of residuals\n",
        "print(residuals.describe())"
      ]
    },
    {
      "cell_type": "code",
      "execution_count": 29,
      "id": "6944271c",
      "metadata": {
        "execution": {
          "iopub.execute_input": "2022-06-14T09:44:12.481947Z",
          "iopub.status.busy": "2022-06-14T09:44:12.481450Z",
          "iopub.status.idle": "2022-06-14T09:44:12.652253Z",
          "shell.execute_reply": "2022-06-14T09:44:12.650722Z"
        },
        "papermill": {
          "duration": 0.209712,
          "end_time": "2022-06-14T09:44:12.656423",
          "exception": false,
          "start_time": "2022-06-14T09:44:12.446711",
          "status": "completed"
        },
        "tags": [],
        "colab": {
          "base_uri": "https://localhost:8080/"
        },
        "id": "6944271c",
        "outputId": "eec70834-d040-4e8a-8dec-0a563b2924dd"
      },
      "outputs": [
        {
          "output_type": "stream",
          "name": "stdout",
          "text": [
            "929    25.609294\n",
            "dtype: float64 0       4.236111\n",
            "1       3.875000\n",
            "2       4.763889\n",
            "3       4.555556\n",
            "4       4.763889\n",
            "         ...    \n",
            "924    28.753968\n",
            "925    29.214286\n",
            "926    29.619048\n",
            "927    26.841270\n",
            "928    25.531746\n",
            "Name: average_temperature_celsius, Length: 929, dtype: float64\n"
          ]
        }
      ],
      "source": [
        "#ARIMA\n",
        "from statsmodels.tsa.arima.model import ARIMA\n",
        "# fit model\n",
        "model = ARIMA(data, order=(1, 1, 1))\n",
        "model_fit = model.fit()\n",
        "# make prediction\n",
        "yhat = model_fit.predict(len(data), len(data), typ='levels')\n",
        "print(yhat, data)"
      ]
    },
    {
      "cell_type": "code",
      "execution_count": 30,
      "id": "e693178c",
      "metadata": {
        "execution": {
          "iopub.execute_input": "2022-06-14T09:44:12.724369Z",
          "iopub.status.busy": "2022-06-14T09:44:12.723311Z",
          "iopub.status.idle": "2022-06-14T09:44:12.732250Z",
          "shell.execute_reply": "2022-06-14T09:44:12.731309Z"
        },
        "papermill": {
          "duration": 0.045014,
          "end_time": "2022-06-14T09:44:12.734271",
          "exception": false,
          "start_time": "2022-06-14T09:44:12.689257",
          "status": "completed"
        },
        "tags": [],
        "colab": {
          "base_uri": "https://localhost:8080/"
        },
        "id": "e693178c",
        "outputId": "d2d4b38d-2d35-44a6-97ba-27a92f127ec3"
      },
      "outputs": [
        {
          "output_type": "execute_result",
          "data": {
            "text/plain": [
              "((650,), (260,), (19,))"
            ]
          },
          "metadata": {},
          "execution_count": 30
        }
      ],
      "source": [
        "#split into train and test sets\n",
        "X = data.values\n",
        "size = int(len(X) * 0.70)\n",
        "size1 = int(len(X) * 0.98)\n",
        "train, val, test = X[0:size], X[size:size1], X[size1:len(X)]\n",
        "train.shape, val.shape, test.shape"
      ]
    },
    {
      "cell_type": "code",
      "execution_count": 31,
      "id": "aa1718c6",
      "metadata": {
        "execution": {
          "iopub.execute_input": "2022-06-14T09:44:12.803619Z",
          "iopub.status.busy": "2022-06-14T09:44:12.802846Z",
          "iopub.status.idle": "2022-06-14T09:49:36.734667Z",
          "shell.execute_reply": "2022-06-14T09:49:36.733724Z"
        },
        "papermill": {
          "duration": 323.980135,
          "end_time": "2022-06-14T09:49:36.746986",
          "exception": false,
          "start_time": "2022-06-14T09:44:12.766851",
          "status": "completed"
        },
        "tags": [],
        "colab": {
          "base_uri": "https://localhost:8080/",
          "height": 282
        },
        "id": "aa1718c6",
        "outputId": "8ce8211c-9a04-4f42-9aaf-ea12eb60f277"
      },
      "outputs": [
        {
          "output_type": "stream",
          "name": "stdout",
          "text": [
            "Test RMSE: 1.907\n"
          ]
        },
        {
          "output_type": "display_data",
          "data": {
            "text/plain": [
              "<Figure size 432x288 with 1 Axes>"
            ],
            "image/png": "[encoded data removed]"
          },
          "metadata": {
            "needs_background": "light"
          }
        }
      ],
      "source": [
        "# split into train and test sets\n",
        "X = data.values\n",
        "size = int(len(X) * 0.70)\n",
        "size1 = int(len(X) * 0.98)\n",
        "train, val, test = X[0:size], X[size:size1], X[size1:len(X)]\n",
        "history = [x for x in train]\n",
        "predictions = list()\n",
        "# walk-forward validation\n",
        "for t in range(len(val)):\n",
        "    model = ARIMA(history, order=(18,1,0))\n",
        "    model_fit = model.fit()\n",
        "    output = model_fit.forecast()\n",
        "    yhat = output[0]\n",
        "    predictions.append(yhat)\n",
        "    obs = val[t]\n",
        "    history.append(obs)\n",
        "    #print('predicted=%f, expected=%f' % (yhat, obs))\n",
        "# evaluate forecasts\n",
        "from sklearn.metrics import mean_squared_error\n",
        "from math import sqrt\n",
        "rmse = sqrt(mean_squared_error(val, predictions))\n",
        "print('Test RMSE: %.3f' % rmse)\n",
        "# plot forecasts against actual outcomes\n",
        "plt.plot(val)\n",
        "plt.plot(predictions, color='red')\n",
        "plt.show()"
      ]
    },
    {
      "cell_type": "code",
      "execution_count": 33,
      "id": "129894ea",
      "metadata": {
        "execution": {
          "iopub.execute_input": "2022-06-14T09:49:36.820011Z",
          "iopub.status.busy": "2022-06-14T09:49:36.819554Z",
          "iopub.status.idle": "2022-06-14T09:49:36.836563Z",
          "shell.execute_reply": "2022-06-14T09:49:36.835776Z"
        },
        "papermill": {
          "duration": 0.05542,
          "end_time": "2022-06-14T09:49:36.838500",
          "exception": false,
          "start_time": "2022-06-14T09:49:36.783080",
          "status": "completed"
        },
        "tags": [],
        "colab": {
          "base_uri": "https://localhost:8080/",
          "height": 645
        },
        "id": "129894ea",
        "outputId": "99662b93-a01a-4d6b-f9e7-6b3ced280ecf"
      },
      "outputs": [
        {
          "output_type": "execute_result",
          "data": {
            "text/plain": [
              "     average_temperature_celsius  yforecast\n",
              "910                    22.523810  16.797885\n",
              "911                    23.365079  18.408320\n",
              "912                    22.500000  18.960441\n",
              "913                    24.658730  19.123170\n",
              "914                    23.500000  19.917800\n",
              "915                    23.682540  20.285426\n",
              "916                    24.230159  20.127937\n",
              "917                    25.365079  20.171892\n",
              "918                    26.420635  20.119069\n",
              "919                    27.150794  20.087575\n",
              "920                    27.865079  20.374447\n",
              "921                    27.626984  20.146949\n",
              "922                    28.468254  19.780542\n",
              "923                    28.642857  20.005476\n",
              "924                    28.753968  19.958923\n",
              "925                    29.214286  19.602211\n",
              "926                    29.619048  19.814662\n",
              "927                    26.841270  19.975367\n",
              "928                    25.531746  19.830093"
            ],
            "text/html": [
              "\n",
              "  <div id=\"df-12b2b5b6-2bdc-4646-b806-ef4982c1a8a4\">\n",
              "    <div class=\"colab-df-container\">\n",
              "      <div>\n",
              "<style scoped>\n",
              "    .dataframe tbody tr th:only-of-type {\n",
              "        vertical-align: middle;\n",
              "    }\n",
              "\n",
              "    .dataframe tbody tr th {\n",
              "        vertical-align: top;\n",
              "    }\n",
              "\n",
              "    .dataframe thead th {\n",
              "        text-align: right;\n",
              "    }\n",
              "</style>\n",
              "<table border=\"1\" class=\"dataframe\">\n",
              "  <thead>\n",
              "    <tr style=\"text-align: right;\">\n",
              "      <th></th>\n",
              "      <th>average_temperature_celsius</th>\n",
              "      <th>yforecast</th>\n",
              "    </tr>\n",
              "  </thead>\n",
              "  <tbody>\n",
              "    <tr>\n",
              "      <th>910</th>\n",
              "      <td>22.523810</td>\n",
              "      <td>16.797885</td>\n",
              "    </tr>\n",
              "    <tr>\n",
              "      <th>911</th>\n",
              "      <td>23.365079</td>\n",
              "      <td>18.408320</td>\n",
              "    </tr>\n",
              "    <tr>\n",
              "      <th>912</th>\n",
              "      <td>22.500000</td>\n",
              "      <td>18.960441</td>\n",
              "    </tr>\n",
              "    <tr>\n",
              "      <th>913</th>\n",
              "      <td>24.658730</td>\n",
              "      <td>19.123170</td>\n",
              "    </tr>\n",
              "    <tr>\n",
              "      <th>914</th>\n",
              "      <td>23.500000</td>\n",
              "      <td>19.917800</td>\n",
              "    </tr>\n",
              "    <tr>\n",
              "      <th>915</th>\n",
              "      <td>23.682540</td>\n",
              "      <td>20.285426</td>\n",
              "    </tr>\n",
              "    <tr>\n",
              "      <th>916</th>\n",
              "      <td>24.230159</td>\n",
              "      <td>20.127937</td>\n",
              "    </tr>\n",
              "    <tr>\n",
              "      <th>917</th>\n",
              "      <td>25.365079</td>\n",
              "      <td>20.171892</td>\n",
              "    </tr>\n",
              "    <tr>\n",
              "      <th>918</th>\n",
              "      <td>26.420635</td>\n",
              "      <td>20.119069</td>\n",
              "    </tr>\n",
              "    <tr>\n",
              "      <th>919</th>\n",
              "      <td>27.150794</td>\n",
              "      <td>20.087575</td>\n",
              "    </tr>\n",
              "    <tr>\n",
              "      <th>920</th>\n",
              "      <td>27.865079</td>\n",
              "      <td>20.374447</td>\n",
              "    </tr>\n",
              "    <tr>\n",
              "      <th>921</th>\n",
              "      <td>27.626984</td>\n",
              "      <td>20.146949</td>\n",
              "    </tr>\n",
              "    <tr>\n",
              "      <th>922</th>\n",
              "      <td>28.468254</td>\n",
              "      <td>19.780542</td>\n",
              "    </tr>\n",
              "    <tr>\n",
              "      <th>923</th>\n",
              "      <td>28.642857</td>\n",
              "      <td>20.005476</td>\n",
              "    </tr>\n",
              "    <tr>\n",
              "      <th>924</th>\n",
              "      <td>28.753968</td>\n",
              "      <td>19.958923</td>\n",
              "    </tr>\n",
              "    <tr>\n",
              "      <th>925</th>\n",
              "      <td>29.214286</td>\n",
              "      <td>19.602211</td>\n",
              "    </tr>\n",
              "    <tr>\n",
              "      <th>926</th>\n",
              "      <td>29.619048</td>\n",
              "      <td>19.814662</td>\n",
              "    </tr>\n",
              "    <tr>\n",
              "      <th>927</th>\n",
              "      <td>26.841270</td>\n",
              "      <td>19.975367</td>\n",
              "    </tr>\n",
              "    <tr>\n",
              "      <th>928</th>\n",
              "      <td>25.531746</td>\n",
              "      <td>19.830093</td>\n",
              "    </tr>\n",
              "  </tbody>\n",
              "</table>\n",
              "</div>\n",
              "      <button class=\"colab-df-convert\" onclick=\"convertToInteractive('df-12b2b5b6-2bdc-4646-b806-ef4982c1a8a4')\"\n",
              "              title=\"Convert this dataframe to an interactive table.\"\n",
              "              style=\"display:none;\">\n",
              "        \n",
              "  <svg xmlns=\"http://www.w3.org/2000/svg\" height=\"24px\"viewBox=\"0 0 24 24\"\n",
              "       width=\"24px\">\n",
              "    <path d=\"M0 0h24v24H0V0z\" fill=\"none\"/>\n",
              "    <path d=\"M18.56 5.44l.94 2.06.94-2.06 2.06-.94-2.06-.94-.94-2.06-.94 2.06-2.06.94zm-11 1L8.5 8.5l.94-2.06 2.06-.94-2.06-.94L8.5 2.5l-.94 2.06-2.06.94zm10 10l.94 2.06.94-2.06 2.06-.94-2.06-.94-.94-2.06-.94 2.06-2.06.94z\"/><path d=\"M17.41 7.96l-1.37-1.37c-.4-.4-.92-.59-1.43-.59-.52 0-1.04.2-1.43.59L10.3 9.45l-7.72 7.72c-.78.78-.78 2.05 0 2.83L4 21.41c.39.39.9.59 1.41.59.51 0 1.02-.2 1.41-.59l7.78-7.78 2.81-2.81c.8-.78.8-2.07 0-2.86zM5.41 20L4 18.59l7.72-7.72 1.47 1.35L5.41 20z\"/>\n",
              "  </svg>\n",
              "      </button>\n",
              "      \n",
              "  <style>\n",
              "    .colab-df-container {\n",
              "      display:flex;\n",
              "      flex-wrap:wrap;\n",
              "      gap: 12px;\n",
              "    }\n",
              "\n",
              "    .colab-df-convert {\n",
              "      background-color: #E8F0FE;\n",
              "      border: none;\n",
              "      border-radius: 50%;\n",
              "      cursor: pointer;\n",
              "      display: none;\n",
              "      fill: #1967D2;\n",
              "      height: 32px;\n",
              "      padding: 0 0 0 0;\n",
              "      width: 32px;\n",
              "    }\n",
              "\n",
              "    .colab-df-convert:hover {\n",
              "      background-color: #E2EBFA;\n",
              "      box-shadow: 0px 1px 2px rgba(60, 64, 67, 0.3), 0px 1px 3px 1px rgba(60, 64, 67, 0.15);\n",
              "      fill: #174EA6;\n",
              "    }\n",
              "\n",
              "    [theme=dark] .colab-df-convert {\n",
              "      background-color: #3B4455;\n",
              "      fill: #D2E3FC;\n",
              "    }\n",
              "\n",
              "    [theme=dark] .colab-df-convert:hover {\n",
              "      background-color: #434B5C;\n",
              "      box-shadow: 0px 1px 3px 1px rgba(0, 0, 0, 0.15);\n",
              "      filter: drop-shadow(0px 1px 2px rgba(0, 0, 0, 0.3));\n",
              "      fill: #FFFFFF;\n",
              "    }\n",
              "  </style>\n",
              "\n",
              "      <script>\n",
              "        const buttonEl =\n",
              "          document.querySelector('#df-12b2b5b6-2bdc-4646-b806-ef4982c1a8a4 button.colab-df-convert');\n",
              "        buttonEl.style.display =\n",
              "          google.colab.kernel.accessAllowed ? 'block' : 'none';\n",
              "\n",
              "        async function convertToInteractive(key) {\n",
              "          const element = document.querySelector('#df-12b2b5b6-2bdc-4646-b806-ef4982c1a8a4');\n",
              "          const dataTable =\n",
              "            await google.colab.kernel.invokeFunction('convertToInteractive',\n",
              "                                                     [key], {});\n",
              "          if (!dataTable) return;\n",
              "\n",
              "          const docLinkHtml = 'Like what you see? Visit the ' +\n",
              "            '<a target=\"_blank\" href=https://colab.research.google.com/notebooks/data_table.ipynb>data table notebook</a>'\n",
              "            + ' to learn more about interactive tables.';\n",
              "          element.innerHTML = '';\n",
              "          dataTable['output_type'] = 'display_data';\n",
              "          await google.colab.output.renderOutput(dataTable, element);\n",
              "          const docLink = document.createElement('div');\n",
              "          docLink.innerHTML = docLinkHtml;\n",
              "          element.appendChild(docLink);\n",
              "        }\n",
              "      </script>\n",
              "    </div>\n",
              "  </div>\n",
              "  "
            ]
          },
          "metadata": {},
          "execution_count": 33
        }
      ],
      "source": [
        "yforecast = model_fit.forecast(19)\n",
        "forecasted = pd.DataFrame(data[size1:len(data)])\n",
        "forecasted['yforecast'] = yforecast\n",
        "forecasted"
      ]
    },
    {
      "cell_type": "code",
      "execution_count": 34,
      "id": "f234ed25",
      "metadata": {
        "execution": {
          "iopub.execute_input": "2022-06-14T09:49:36.909814Z",
          "iopub.status.busy": "2022-06-14T09:49:36.909192Z",
          "iopub.status.idle": "2022-06-14T09:49:37.293083Z",
          "shell.execute_reply": "2022-06-14T09:49:37.291652Z"
        },
        "papermill": {
          "duration": 0.423079,
          "end_time": "2022-06-14T09:49:37.295990",
          "exception": false,
          "start_time": "2022-06-14T09:49:36.872911",
          "status": "completed"
        },
        "tags": [],
        "colab": {
          "base_uri": "https://localhost:8080/",
          "height": 1000
        },
        "id": "f234ed25",
        "outputId": "ff1f8571-aa00-4baf-e03c-21bbc554a82e"
      },
      "outputs": [
        {
          "output_type": "stream",
          "name": "stdout",
          "text": [
            "                               SARIMAX Results                                \n",
            "==============================================================================\n",
            "Dep. Variable:                      y   No. Observations:                  909\n",
            "Model:                ARIMA(18, 1, 0)   Log Likelihood               -1801.896\n",
            "Date:                Sun, 24 Jul 2022   AIC                           3641.793\n",
            "Time:                        10:21:01   BIC                           3733.207\n",
            "Sample:                             0   HQIC                          3676.699\n",
            "                                - 909                                         \n",
            "Covariance Type:                  opg                                         \n",
            "==============================================================================\n",
            "                 coef    std err          z      P>|z|      [0.025      0.975]\n",
            "------------------------------------------------------------------------------\n",
            "ar.L1          0.0123      0.032      0.382      0.702      -0.051       0.076\n",
            "ar.L2         -0.2523      0.033     -7.616      0.000      -0.317      -0.187\n",
            "ar.L3         -0.1196      0.035     -3.424      0.001      -0.188      -0.051\n",
            "ar.L4         -0.1293      0.034     -3.766      0.000      -0.197      -0.062\n",
            "ar.L5         -0.1304      0.037     -3.552      0.000      -0.202      -0.058\n",
            "ar.L6         -0.1270      0.036     -3.489      0.000      -0.198      -0.056\n",
            "ar.L7         -0.0536      0.033     -1.630      0.103      -0.118       0.011\n",
            "ar.L8         -0.1040      0.036     -2.851      0.004      -0.175      -0.032\n",
            "ar.L9         -0.0706      0.037     -1.898      0.058      -0.144       0.002\n",
            "ar.L10        -0.0806      0.036     -2.258      0.024      -0.151      -0.011\n",
            "ar.L11        -0.0442      0.037     -1.182      0.237      -0.118       0.029\n",
            "ar.L12        -0.0436      0.038     -1.161      0.246      -0.117       0.030\n",
            "ar.L13        -0.0198      0.036     -0.544      0.586      -0.091       0.052\n",
            "ar.L14        -0.0396      0.035     -1.131      0.258      -0.108       0.029\n",
            "ar.L15        -0.0677      0.034     -1.978      0.048      -0.135      -0.001\n",
            "ar.L16         0.0143      0.035      0.414      0.679      -0.053       0.082\n",
            "ar.L17        -0.0709      0.035     -2.039      0.041      -0.139      -0.003\n",
            "ar.L18        -0.0101      0.034     -0.294      0.769      -0.078       0.057\n",
            "sigma2         3.0973      0.137     22.621      0.000       2.829       3.366\n",
            "===================================================================================\n",
            "Ljung-Box (L1) (Q):                   0.00   Jarque-Bera (JB):                23.75\n",
            "Prob(Q):                              0.98   Prob(JB):                         0.00\n",
            "Heteroskedasticity (H):               1.19   Skew:                            -0.27\n",
            "Prob(H) (two-sided):                  0.13   Kurtosis:                         3.58\n",
            "===================================================================================\n",
            "\n",
            "Warnings:\n",
            "[1] Covariance matrix calculated using the outer product of gradients (complex-step).\n"
          ]
        },
        {
          "output_type": "display_data",
          "data": {
            "text/plain": [
              "<Figure size 432x288 with 1 Axes>"
            ],
            "image/png": "[encoded data removed]"
          },
          "metadata": {
            "needs_background": "light"
          }
        },
        {
          "output_type": "display_data",
          "data": {
            "text/plain": [
              "<Figure size 432x288 with 1 Axes>"
            ],
            "image/png": "[encoded data removed]"
          },
          "metadata": {
            "needs_background": "light"
          }
        },
        {
          "output_type": "stream",
          "name": "stdout",
          "text": [
            "                0\n",
            "count  909.000000\n",
            "mean     0.044405\n",
            "std      1.765070\n",
            "min     -7.984391\n",
            "25%     -1.027533\n",
            "50%      0.107474\n",
            "75%      1.156364\n",
            "max      5.814488\n"
          ]
        }
      ],
      "source": [
        "# summary of fit model\n",
        "print(model_fit.summary())\n",
        "# line plot of residuals\n",
        "residuals = pd.DataFrame(model_fit.resid)\n",
        "residuals.plot()\n",
        "plt.show()\n",
        "# density plot of residuals\n",
        "residuals.plot(kind='kde')\n",
        "plt.show()\n",
        "# summary stats of residuals\n",
        "print(residuals.describe())"
      ]
    },
    {
      "cell_type": "code",
      "execution_count": 35,
      "id": "571db8f6",
      "metadata": {
        "execution": {
          "iopub.execute_input": "2022-06-14T09:49:37.465386Z",
          "iopub.status.busy": "2022-06-14T09:49:37.464988Z",
          "iopub.status.idle": "2022-06-14T09:49:37.627348Z",
          "shell.execute_reply": "2022-06-14T09:49:37.626219Z"
        },
        "papermill": {
          "duration": 0.207752,
          "end_time": "2022-06-14T09:49:37.629826",
          "exception": false,
          "start_time": "2022-06-14T09:49:37.422074",
          "status": "completed"
        },
        "tags": [],
        "colab": {
          "base_uri": "https://localhost:8080/"
        },
        "id": "571db8f6",
        "outputId": "9c1bd7bc-82e1-4ea0-a60c-0f1f7fe2e6a8"
      },
      "outputs": [
        {
          "output_type": "stream",
          "name": "stdout",
          "text": [
            "929    25.609294\n",
            "dtype: float64 0       4.236111\n",
            "1       3.875000\n",
            "2       4.763889\n",
            "3       4.555556\n",
            "4       4.763889\n",
            "         ...    \n",
            "924    28.753968\n",
            "925    29.214286\n",
            "926    29.619048\n",
            "927    26.841270\n",
            "928    25.531746\n",
            "Name: average_temperature_celsius, Length: 929, dtype: float64\n"
          ]
        }
      ],
      "source": [
        "# SARIMA example\n",
        "from statsmodels.tsa.statespace.sarimax import SARIMAX\n",
        "\n",
        "# fit model\n",
        "model = SARIMAX(data, order=(1, 1, 1), seasonal_order=(0, 0, 0, 0))\n",
        "model_fit = model.fit(disp=False)\n",
        "# make prediction\n",
        "yhat = model_fit.predict(len(data), len(data))\n",
        "print(yhat, data)"
      ]
    },
    {
      "cell_type": "code",
      "execution_count": 36,
      "id": "58be4869",
      "metadata": {
        "execution": {
          "iopub.execute_input": "2022-06-14T09:49:37.775184Z",
          "iopub.status.busy": "2022-06-14T09:49:37.774809Z",
          "iopub.status.idle": "2022-06-14T09:49:37.782244Z",
          "shell.execute_reply": "2022-06-14T09:49:37.781243Z"
        },
        "papermill": {
          "duration": 0.046842,
          "end_time": "2022-06-14T09:49:37.784273",
          "exception": false,
          "start_time": "2022-06-14T09:49:37.737431",
          "status": "completed"
        },
        "tags": [],
        "colab": {
          "base_uri": "https://localhost:8080/"
        },
        "id": "58be4869",
        "outputId": "fbb638e1-1b57-4501-d1ca-9e59686bd469"
      },
      "outputs": [
        {
          "output_type": "execute_result",
          "data": {
            "text/plain": [
              "(71.1417117825619, (929,), (929,))"
            ]
          },
          "metadata": {},
          "execution_count": 36
        }
      ],
      "source": [
        "data2 = weather['relative_humidity']\n",
        "data2.mean(), data2.shape, data.shape"
      ]
    },
    {
      "cell_type": "code",
      "execution_count": 37,
      "id": "eff1262c",
      "metadata": {
        "execution": {
          "iopub.execute_input": "2022-06-14T09:49:37.858585Z",
          "iopub.status.busy": "2022-06-14T09:49:37.858192Z",
          "iopub.status.idle": "2022-06-14T09:49:38.075236Z",
          "shell.execute_reply": "2022-06-14T09:49:38.073977Z"
        },
        "papermill": {
          "duration": 0.257818,
          "end_time": "2022-06-14T09:49:38.078645",
          "exception": false,
          "start_time": "2022-06-14T09:49:37.820827",
          "status": "completed"
        },
        "tags": [],
        "colab": {
          "base_uri": "https://localhost:8080/"
        },
        "id": "eff1262c",
        "outputId": "937a8257-ffc1-4e84-9e5a-0fd873ed157f"
      },
      "outputs": [
        {
          "output_type": "stream",
          "name": "stdout",
          "text": [
            "929    24.1073\n",
            "dtype: float64 0       4.236111\n",
            "1       3.875000\n",
            "2       4.763889\n",
            "3       4.555556\n",
            "4       4.763889\n",
            "         ...    \n",
            "924    28.753968\n",
            "925    29.214286\n",
            "926    29.619048\n",
            "927    26.841270\n",
            "928    25.531746\n",
            "Name: average_temperature_celsius, Length: 929, dtype: float64 0      72.773049\n",
            "1      70.841314\n",
            "2      71.117248\n",
            "3      77.338640\n",
            "4      60.762380\n",
            "         ...    \n",
            "924    38.765001\n",
            "925    37.041634\n",
            "926    43.104576\n",
            "927    66.085903\n",
            "928    54.365823\n",
            "Name: relative_humidity, Length: 929, dtype: float64\n"
          ]
        }
      ],
      "source": [
        "# SARIMAX example\n",
        "from statsmodels.tsa.statespace.sarimax import SARIMAX\n",
        "data2 = weather['relative_humidity']\n",
        "# fit model\n",
        "model = SARIMAX(data, exog=data2, order=(1, 1, 1), seasonal_order=(0, 0, 0, 0))\n",
        "model_fit = model.fit(disp=False)\n",
        "# make prediction\n",
        "from random import random\n",
        "exog2 = [data2.mean() + random()]\n",
        "yhat = model_fit.predict(len(data), len(data), exog = exog2)\n",
        "print(yhat, data, data2)"
      ]
    },
    {
      "cell_type": "code",
      "execution_count": 39,
      "id": "a3057a73",
      "metadata": {
        "execution": {
          "iopub.execute_input": "2022-06-14T09:49:43.096037Z",
          "iopub.status.busy": "2022-06-14T09:49:43.095347Z",
          "iopub.status.idle": "2022-06-14T09:49:43.139834Z",
          "shell.execute_reply": "2022-06-14T09:49:43.138957Z"
        },
        "papermill": {
          "duration": 0.084876,
          "end_time": "2022-06-14T09:49:43.142106",
          "exception": false,
          "start_time": "2022-06-14T09:49:43.057230",
          "status": "completed"
        },
        "tags": [],
        "colab": {
          "base_uri": "https://localhost:8080/"
        },
        "id": "a3057a73",
        "outputId": "8f8d5a00-46d9-4d27-b1d6-cb524290af9c"
      },
      "outputs": [
        {
          "output_type": "stream",
          "name": "stdout",
          "text": [
            "929    25.531746\n",
            "dtype: float64 0       4.236111\n",
            "1       3.875000\n",
            "2       4.763889\n",
            "3       4.555556\n",
            "4       4.763889\n",
            "         ...    \n",
            "924    28.753968\n",
            "925    29.214286\n",
            "926    29.619048\n",
            "927    26.841270\n",
            "928    25.531746\n",
            "Name: average_temperature_celsius, Length: 929, dtype: float64\n"
          ]
        }
      ],
      "source": [
        "# SES \n",
        "from statsmodels.tsa.holtwinters import SimpleExpSmoothing\n",
        "\n",
        "# fit model\n",
        "model = SimpleExpSmoothing(data)\n",
        "model_fit = model.fit()\n",
        "# make prediction\n",
        "yhat = model_fit.predict(len(data), len(data))\n",
        "print(yhat, data)"
      ]
    },
    {
      "cell_type": "code",
      "execution_count": 40,
      "id": "6426d934",
      "metadata": {
        "execution": {
          "iopub.execute_input": "2022-06-14T09:49:43.288520Z",
          "iopub.status.busy": "2022-06-14T09:49:43.288140Z",
          "iopub.status.idle": "2022-06-14T09:49:43.307381Z",
          "shell.execute_reply": "2022-06-14T09:49:43.306368Z"
        },
        "papermill": {
          "duration": 0.059825,
          "end_time": "2022-06-14T09:49:43.310598",
          "exception": false,
          "start_time": "2022-06-14T09:49:43.250773",
          "status": "completed"
        },
        "tags": [],
        "colab": {
          "base_uri": "https://localhost:8080/"
        },
        "id": "6426d934",
        "outputId": "1c6da5f2-cb16-40d6-e2df-d2b5f1cc5c11"
      },
      "outputs": [
        {
          "output_type": "stream",
          "name": "stdout",
          "text": [
            "929    25.531746\n",
            "dtype: float64 0       4.236111\n",
            "1       3.875000\n",
            "2       4.763889\n",
            "3       4.555556\n",
            "4       4.763889\n",
            "         ...    \n",
            "924    28.753968\n",
            "925    29.214286\n",
            "926    29.619048\n",
            "927    26.841270\n",
            "928    25.531746\n",
            "Name: average_temperature_celsius, Length: 929, dtype: float64\n"
          ]
        }
      ],
      "source": [
        "# HWES \n",
        "from statsmodels.tsa.holtwinters import ExponentialSmoothing\n",
        "\n",
        "# fit model\n",
        "model = ExponentialSmoothing(data)\n",
        "model_fit = model.fit()\n",
        "# make prediction\n",
        "yhat = model_fit.predict(len(data), len(data))\n",
        "print(yhat, data)"
      ]
    }
  ],
  "metadata": {
    "kernelspec": {
      "display_name": "Python 3",
      "language": "python",
      "name": "python3"
    },
    "language_info": {
      "codemirror_mode": {
        "name": "ipython",
        "version": 3
      },
      "file_extension": ".py",
      "mimetype": "text/x-python",
      "name": "python",
      "nbconvert_exporter": "python",
      "pygments_lexer": "ipython3",
      "version": "3.7.12"
    },
    "papermill": {
      "default_parameters": {},
      "duration": 423.779509,
      "end_time": "2022-06-14T09:49:45.439282",
      "environment_variables": {},
      "exception": null,
      "input_path": "__notebook__.ipynb",
      "output_path": "__notebook__.ipynb",
      "parameters": {},
      "start_time": "2022-06-14T09:42:41.659773",
      "version": "2.3.4"
    },
    "colab": {
      "name": "weather-prediction-time-series-models.ipynb",
      "provenance": []
    }
  },
  "nbformat": 4,
  "nbformat_minor": 5
}